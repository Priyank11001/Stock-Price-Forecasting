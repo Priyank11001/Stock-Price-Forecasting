{
 "cells": [
  {
   "cell_type": "code",
   "execution_count": 1,
   "metadata": {},
   "outputs": [],
   "source": [
    "import yfinance as yf\n",
    "\n",
    "data = yf.Ticker(\"COCHINSHIP.NS\")"
   ]
  },
  {
   "cell_type": "code",
   "execution_count": 2,
   "metadata": {},
   "outputs": [],
   "source": [
    "info = data.info"
   ]
  },
  {
   "cell_type": "code",
   "execution_count": 3,
   "metadata": {},
   "outputs": [
    {
     "data": {
      "text/plain": [
       "dict_keys(['address1', 'address2', 'city', 'zip', 'country', 'phone', 'fax', 'website', 'industry', 'industryKey', 'industryDisp', 'sector', 'sectorKey', 'sectorDisp', 'longBusinessSummary', 'fullTimeEmployees', 'companyOfficers', 'compensationAsOfEpochDate', 'maxAge', 'priceHint', 'previousClose', 'open', 'dayLow', 'dayHigh', 'regularMarketPreviousClose', 'regularMarketOpen', 'regularMarketDayLow', 'regularMarketDayHigh', 'dividendRate', 'dividendYield', 'exDividendDate', 'payoutRatio', 'fiveYearAvgDividendYield', 'beta', 'trailingPE', 'forwardPE', 'volume', 'regularMarketVolume', 'averageVolume', 'averageVolume10days', 'averageDailyVolume10Day', 'marketCap', 'fiftyTwoWeekLow', 'fiftyTwoWeekHigh', 'priceToSalesTrailing12Months', 'fiftyDayAverage', 'twoHundredDayAverage', 'trailingAnnualDividendRate', 'trailingAnnualDividendYield', 'currency', 'enterpriseValue', 'profitMargins', 'floatShares', 'sharesOutstanding', 'heldPercentInsiders', 'heldPercentInstitutions', 'impliedSharesOutstanding', 'bookValue', 'priceToBook', 'lastFiscalYearEnd', 'nextFiscalYearEnd', 'mostRecentQuarter', 'earningsQuarterlyGrowth', 'netIncomeToCommon', 'trailingEps', 'forwardEps', 'lastSplitFactor', 'lastSplitDate', 'enterpriseToRevenue', 'enterpriseToEbitda', '52WeekChange', 'SandP52WeekChange', 'lastDividendValue', 'lastDividendDate', 'exchange', 'quoteType', 'symbol', 'underlyingSymbol', 'shortName', 'longName', 'firstTradeDateEpochUtc', 'timeZoneFullName', 'timeZoneShortName', 'uuid', 'messageBoardId', 'gmtOffSetMilliseconds', 'currentPrice', 'targetHighPrice', 'targetLowPrice', 'targetMeanPrice', 'targetMedianPrice', 'recommendationKey', 'numberOfAnalystOpinions', 'totalCash', 'totalCashPerShare', 'ebitda', 'totalDebt', 'quickRatio', 'currentRatio', 'totalRevenue', 'debtToEquity', 'revenuePerShare', 'returnOnAssets', 'returnOnEquity', 'freeCashflow', 'operatingCashflow', 'earningsGrowth', 'revenueGrowth', 'grossMargins', 'ebitdaMargins', 'operatingMargins', 'financialCurrency', 'trailingPegRatio'])"
      ]
     },
     "execution_count": 3,
     "metadata": {},
     "output_type": "execute_result"
    }
   ],
   "source": [
    "info.keys()"
   ]
  },
  {
   "cell_type": "code",
   "execution_count": 4,
   "metadata": {},
   "outputs": [
    {
     "data": {
      "text/plain": [
       "('India', 'Industrials', 'https://cochinshipyard.in')"
      ]
     },
     "execution_count": 4,
     "metadata": {},
     "output_type": "execute_result"
    }
   ],
   "source": [
    "info['country'],info['sector'],info['website'],"
   ]
  },
  {
   "cell_type": "code",
   "execution_count": 5,
   "metadata": {},
   "outputs": [],
   "source": [
    "promoter = info['companyOfficers'][0]"
   ]
  },
  {
   "cell_type": "code",
   "execution_count": 6,
   "metadata": {},
   "outputs": [
    {
     "data": {
      "text/plain": [
       "('Mr. Madhu Sankunny Nair', 'Chairman & MD')"
      ]
     },
     "execution_count": 6,
     "metadata": {},
     "output_type": "execute_result"
    }
   ],
   "source": [
    "promoter['name'],promoter['title']"
   ]
  },
  {
   "cell_type": "code",
   "execution_count": 7,
   "metadata": {},
   "outputs": [],
   "source": [
    "promoters = data.info['companyOfficers']"
   ]
  },
  {
   "cell_type": "code",
   "execution_count": 8,
   "metadata": {},
   "outputs": [
    {
     "data": {
      "text/plain": [
       "[{'maxAge': 1,\n",
       "  'name': 'Mr. Madhu Sankunny Nair',\n",
       "  'age': 57,\n",
       "  'title': 'Chairman & MD',\n",
       "  'yearBorn': 1966,\n",
       "  'fiscalYear': 2024,\n",
       "  'totalPay': 8998000,\n",
       "  'exercisedValue': 0,\n",
       "  'unexercisedValue': 0},\n",
       " {'maxAge': 1,\n",
       "  'name': 'Mr. Valiyaparambil Jacob Jose',\n",
       "  'age': 56,\n",
       "  'title': 'CFO, Director of Finance & Director',\n",
       "  'yearBorn': 1967,\n",
       "  'fiscalYear': 2024,\n",
       "  'totalPay': 5909000,\n",
       "  'exercisedValue': 0,\n",
       "  'unexercisedValue': 0},\n",
       " {'maxAge': 1,\n",
       "  'name': 'Mr. Sreejith Katayamkot Narayanan',\n",
       "  'age': 58,\n",
       "  'title': 'Executive Director & Director of Operations',\n",
       "  'yearBorn': 1965,\n",
       "  'fiscalYear': 2024,\n",
       "  'totalPay': 5887000,\n",
       "  'exercisedValue': 0,\n",
       "  'unexercisedValue': 0},\n",
       " {'maxAge': 1,\n",
       "  'name': 'Mr. Bejoy  Bhasker',\n",
       "  'age': 58,\n",
       "  'title': 'Technical Director & Director',\n",
       "  'yearBorn': 1965,\n",
       "  'fiscalYear': 2024,\n",
       "  'totalPay': 6427000,\n",
       "  'exercisedValue': 0,\n",
       "  'unexercisedValue': 0},\n",
       " {'maxAge': 1,\n",
       "  'name': 'Mr. Eldho  John',\n",
       "  'title': 'Chief General Manager of Technical',\n",
       "  'fiscalYear': 2024,\n",
       "  'exercisedValue': 0,\n",
       "  'unexercisedValue': 0},\n",
       " {'maxAge': 1,\n",
       "  'name': 'Mr. N.  Syamkamal',\n",
       "  'age': 36,\n",
       "  'title': 'Company Secretary & Compliance Officer',\n",
       "  'yearBorn': 1987,\n",
       "  'fiscalYear': 2024,\n",
       "  'totalPay': 8113995,\n",
       "  'exercisedValue': 0,\n",
       "  'unexercisedValue': 0},\n",
       " {'maxAge': 1,\n",
       "  'name': 'Mr. A. K. Subash',\n",
       "  'title': 'General Manager of Human Resource & Training',\n",
       "  'fiscalYear': 2024,\n",
       "  'exercisedValue': 0,\n",
       "  'unexercisedValue': 0},\n",
       " {'maxAge': 1,\n",
       "  'name': 'Ms. Kariyal Rajakumaran Anjana',\n",
       "  'age': 51,\n",
       "  'title': 'Chief General Manager (Design)',\n",
       "  'yearBorn': 1972,\n",
       "  'fiscalYear': 2024,\n",
       "  'exercisedValue': 0,\n",
       "  'unexercisedValue': 0},\n",
       " {'maxAge': 1,\n",
       "  'name': 'Mr. V. P. Shiraz',\n",
       "  'title': 'Chief GM of Planning, Project Management & Strategy',\n",
       "  'fiscalYear': 2024,\n",
       "  'exercisedValue': 0,\n",
       "  'unexercisedValue': 0},\n",
       " {'maxAge': 1,\n",
       "  'name': 'Mr. Deepu  Surendran',\n",
       "  'title': 'Chief General Manager (C-SAS)',\n",
       "  'fiscalYear': 2024,\n",
       "  'exercisedValue': 0,\n",
       "  'unexercisedValue': 0}]"
      ]
     },
     "execution_count": 8,
     "metadata": {},
     "output_type": "execute_result"
    }
   ],
   "source": [
    "promoters"
   ]
  },
  {
   "cell_type": "code",
   "execution_count": 9,
   "metadata": {},
   "outputs": [
    {
     "data": {
      "text/plain": [
       "lazy-loading dict with keys = ['currency', 'dayHigh', 'dayLow', 'exchange', 'fiftyDayAverage', 'lastPrice', 'lastVolume', 'marketCap', 'open', 'previousClose', 'quoteType', 'regularMarketPreviousClose', 'shares', 'tenDayAverageVolume', 'threeMonthAverageVolume', 'timezone', 'twoHundredDayAverage', 'yearChange', 'yearHigh', 'yearLow']"
      ]
     },
     "execution_count": 9,
     "metadata": {},
     "output_type": "execute_result"
    }
   ],
   "source": [
    "data.fast_info"
   ]
  },
  {
   "cell_type": "code",
   "execution_count": 10,
   "metadata": {},
   "outputs": [
    {
     "data": {
      "text/html": [
       "<div>\n",
       "<style scoped>\n",
       "    .dataframe tbody tr th:only-of-type {\n",
       "        vertical-align: middle;\n",
       "    }\n",
       "\n",
       "    .dataframe tbody tr th {\n",
       "        vertical-align: top;\n",
       "    }\n",
       "\n",
       "    .dataframe thead th {\n",
       "        text-align: right;\n",
       "    }\n",
       "</style>\n",
       "<table border=\"1\" class=\"dataframe\">\n",
       "  <thead>\n",
       "    <tr style=\"text-align: right;\">\n",
       "      <th></th>\n",
       "      <th>2024-03-31</th>\n",
       "      <th>2023-03-31</th>\n",
       "      <th>2022-03-31</th>\n",
       "      <th>2021-03-31</th>\n",
       "      <th>2020-03-31</th>\n",
       "    </tr>\n",
       "  </thead>\n",
       "  <tbody>\n",
       "    <tr>\n",
       "      <th>OrdinarySharesNumber</th>\n",
       "      <td>263080780.0</td>\n",
       "      <td>263080780.0</td>\n",
       "      <td>263080780.0</td>\n",
       "      <td>263080780.0</td>\n",
       "      <td>NaN</td>\n",
       "    </tr>\n",
       "    <tr>\n",
       "      <th>ShareIssued</th>\n",
       "      <td>263080780.0</td>\n",
       "      <td>263080780.0</td>\n",
       "      <td>263080780.0</td>\n",
       "      <td>263080780.0</td>\n",
       "      <td>NaN</td>\n",
       "    </tr>\n",
       "    <tr>\n",
       "      <th>TotalDebt</th>\n",
       "      <td>5021996000.0</td>\n",
       "      <td>5873286000.0</td>\n",
       "      <td>5537855000.0</td>\n",
       "      <td>5396414000.0</td>\n",
       "      <td>NaN</td>\n",
       "    </tr>\n",
       "    <tr>\n",
       "      <th>TangibleBookValue</th>\n",
       "      <td>49807808000.0</td>\n",
       "      <td>44019622000.0</td>\n",
       "      <td>43656370000.0</td>\n",
       "      <td>39702743000.0</td>\n",
       "      <td>NaN</td>\n",
       "    </tr>\n",
       "    <tr>\n",
       "      <th>InvestedCapital</th>\n",
       "      <td>50263587000.0</td>\n",
       "      <td>45605162000.0</td>\n",
       "      <td>45190016000.0</td>\n",
       "      <td>41564512000.0</td>\n",
       "      <td>NaN</td>\n",
       "    </tr>\n",
       "    <tr>\n",
       "      <th>...</th>\n",
       "      <td>...</td>\n",
       "      <td>...</td>\n",
       "      <td>...</td>\n",
       "      <td>...</td>\n",
       "      <td>...</td>\n",
       "    </tr>\n",
       "    <tr>\n",
       "      <th>CashCashEquivalentsAndShortTermInvestments</th>\n",
       "      <td>5771208000.0</td>\n",
       "      <td>9520041000.0</td>\n",
       "      <td>17504775000.0</td>\n",
       "      <td>7357089000.0</td>\n",
       "      <td>NaN</td>\n",
       "    </tr>\n",
       "    <tr>\n",
       "      <th>OtherShortTermInvestments</th>\n",
       "      <td>2707078000.0</td>\n",
       "      <td>5769820000.0</td>\n",
       "      <td>12469762000.0</td>\n",
       "      <td>70075000.0</td>\n",
       "      <td>NaN</td>\n",
       "    </tr>\n",
       "    <tr>\n",
       "      <th>CashAndCashEquivalents</th>\n",
       "      <td>3064130000.0</td>\n",
       "      <td>3750221000.0</td>\n",
       "      <td>5035013000.0</td>\n",
       "      <td>7287014000.0</td>\n",
       "      <td>NaN</td>\n",
       "    </tr>\n",
       "    <tr>\n",
       "      <th>CashEquivalents</th>\n",
       "      <td>2968948000.0</td>\n",
       "      <td>3010776000.0</td>\n",
       "      <td>3795242000.0</td>\n",
       "      <td>2417667000.0</td>\n",
       "      <td>NaN</td>\n",
       "    </tr>\n",
       "    <tr>\n",
       "      <th>CashFinancial</th>\n",
       "      <td>95182000.0</td>\n",
       "      <td>739445000.0</td>\n",
       "      <td>1239771000.0</td>\n",
       "      <td>4869347000.0</td>\n",
       "      <td>NaN</td>\n",
       "    </tr>\n",
       "  </tbody>\n",
       "</table>\n",
       "<p>80 rows × 5 columns</p>\n",
       "</div>"
      ],
      "text/plain": [
       "                                               2024-03-31     2023-03-31  \\\n",
       "OrdinarySharesNumber                          263080780.0    263080780.0   \n",
       "ShareIssued                                   263080780.0    263080780.0   \n",
       "TotalDebt                                    5021996000.0   5873286000.0   \n",
       "TangibleBookValue                           49807808000.0  44019622000.0   \n",
       "InvestedCapital                             50263587000.0  45605162000.0   \n",
       "...                                                   ...            ...   \n",
       "CashCashEquivalentsAndShortTermInvestments   5771208000.0   9520041000.0   \n",
       "OtherShortTermInvestments                    2707078000.0   5769820000.0   \n",
       "CashAndCashEquivalents                       3064130000.0   3750221000.0   \n",
       "CashEquivalents                              2968948000.0   3010776000.0   \n",
       "CashFinancial                                  95182000.0    739445000.0   \n",
       "\n",
       "                                               2022-03-31     2021-03-31  \\\n",
       "OrdinarySharesNumber                          263080780.0    263080780.0   \n",
       "ShareIssued                                   263080780.0    263080780.0   \n",
       "TotalDebt                                    5537855000.0   5396414000.0   \n",
       "TangibleBookValue                           43656370000.0  39702743000.0   \n",
       "InvestedCapital                             45190016000.0  41564512000.0   \n",
       "...                                                   ...            ...   \n",
       "CashCashEquivalentsAndShortTermInvestments  17504775000.0   7357089000.0   \n",
       "OtherShortTermInvestments                   12469762000.0     70075000.0   \n",
       "CashAndCashEquivalents                       5035013000.0   7287014000.0   \n",
       "CashEquivalents                              3795242000.0   2417667000.0   \n",
       "CashFinancial                                1239771000.0   4869347000.0   \n",
       "\n",
       "                                           2020-03-31  \n",
       "OrdinarySharesNumber                              NaN  \n",
       "ShareIssued                                       NaN  \n",
       "TotalDebt                                         NaN  \n",
       "TangibleBookValue                                 NaN  \n",
       "InvestedCapital                                   NaN  \n",
       "...                                               ...  \n",
       "CashCashEquivalentsAndShortTermInvestments        NaN  \n",
       "OtherShortTermInvestments                         NaN  \n",
       "CashAndCashEquivalents                            NaN  \n",
       "CashEquivalents                                   NaN  \n",
       "CashFinancial                                     NaN  \n",
       "\n",
       "[80 rows x 5 columns]"
      ]
     },
     "execution_count": 10,
     "metadata": {},
     "output_type": "execute_result"
    }
   ],
   "source": [
    "data.get_balancesheet()"
   ]
  },
  {
   "cell_type": "code",
   "execution_count": 11,
   "metadata": {},
   "outputs": [
    {
     "data": {
      "text/html": [
       "<div>\n",
       "<style scoped>\n",
       "    .dataframe tbody tr th:only-of-type {\n",
       "        vertical-align: middle;\n",
       "    }\n",
       "\n",
       "    .dataframe tbody tr th {\n",
       "        vertical-align: top;\n",
       "    }\n",
       "\n",
       "    .dataframe thead th {\n",
       "        text-align: right;\n",
       "    }\n",
       "</style>\n",
       "<table border=\"1\" class=\"dataframe\">\n",
       "  <thead>\n",
       "    <tr style=\"text-align: right;\">\n",
       "      <th></th>\n",
       "      <th>2024-09-30</th>\n",
       "      <th>2024-03-31</th>\n",
       "      <th>2023-09-30</th>\n",
       "      <th>2023-03-31</th>\n",
       "    </tr>\n",
       "  </thead>\n",
       "  <tbody>\n",
       "    <tr>\n",
       "      <th>Ordinary Shares Number</th>\n",
       "      <td>263080780.0</td>\n",
       "      <td>263080780.0</td>\n",
       "      <td>263080780.0</td>\n",
       "      <td>263080780.0</td>\n",
       "    </tr>\n",
       "    <tr>\n",
       "      <th>Share Issued</th>\n",
       "      <td>263080780.0</td>\n",
       "      <td>263080780.0</td>\n",
       "      <td>263080780.0</td>\n",
       "      <td>263080780.0</td>\n",
       "    </tr>\n",
       "    <tr>\n",
       "      <th>Total Debt</th>\n",
       "      <td>5009974000.0</td>\n",
       "      <td>5021996000.0</td>\n",
       "      <td>5615053000.0</td>\n",
       "      <td>5873286000.0</td>\n",
       "    </tr>\n",
       "    <tr>\n",
       "      <th>Tangible Book Value</th>\n",
       "      <td>52587068000.0</td>\n",
       "      <td>49807808000.0</td>\n",
       "      <td>46808525000.0</td>\n",
       "      <td>44019622000.0</td>\n",
       "    </tr>\n",
       "    <tr>\n",
       "      <th>Invested Capital</th>\n",
       "      <td>52996092000.0</td>\n",
       "      <td>50263587000.0</td>\n",
       "      <td>48437758000.0</td>\n",
       "      <td>45605162000.0</td>\n",
       "    </tr>\n",
       "    <tr>\n",
       "      <th>...</th>\n",
       "      <td>...</td>\n",
       "      <td>...</td>\n",
       "      <td>...</td>\n",
       "      <td>...</td>\n",
       "    </tr>\n",
       "    <tr>\n",
       "      <th>Cash Cash Equivalents And Short Term Investments</th>\n",
       "      <td>32061161000.0</td>\n",
       "      <td>5771208000.0</td>\n",
       "      <td>37304151000.0</td>\n",
       "      <td>9520041000.0</td>\n",
       "    </tr>\n",
       "    <tr>\n",
       "      <th>Other Short Term Investments</th>\n",
       "      <td>29277435000.0</td>\n",
       "      <td>2707078000.0</td>\n",
       "      <td>15800210000.0</td>\n",
       "      <td>5769820000.0</td>\n",
       "    </tr>\n",
       "    <tr>\n",
       "      <th>Cash And Cash Equivalents</th>\n",
       "      <td>2783726000.0</td>\n",
       "      <td>3064130000.0</td>\n",
       "      <td>21503941000.0</td>\n",
       "      <td>3750221000.0</td>\n",
       "    </tr>\n",
       "    <tr>\n",
       "      <th>Cash Equivalents</th>\n",
       "      <td>NaN</td>\n",
       "      <td>2968948000.0</td>\n",
       "      <td>NaN</td>\n",
       "      <td>3010776000.0</td>\n",
       "    </tr>\n",
       "    <tr>\n",
       "      <th>Cash Financial</th>\n",
       "      <td>NaN</td>\n",
       "      <td>95182000.0</td>\n",
       "      <td>NaN</td>\n",
       "      <td>739445000.0</td>\n",
       "    </tr>\n",
       "  </tbody>\n",
       "</table>\n",
       "<p>77 rows × 4 columns</p>\n",
       "</div>"
      ],
      "text/plain": [
       "                                                     2024-09-30  \\\n",
       "Ordinary Shares Number                              263080780.0   \n",
       "Share Issued                                        263080780.0   \n",
       "Total Debt                                         5009974000.0   \n",
       "Tangible Book Value                               52587068000.0   \n",
       "Invested Capital                                  52996092000.0   \n",
       "...                                                         ...   \n",
       "Cash Cash Equivalents And Short Term Investments  32061161000.0   \n",
       "Other Short Term Investments                      29277435000.0   \n",
       "Cash And Cash Equivalents                          2783726000.0   \n",
       "Cash Equivalents                                            NaN   \n",
       "Cash Financial                                              NaN   \n",
       "\n",
       "                                                     2024-03-31  \\\n",
       "Ordinary Shares Number                              263080780.0   \n",
       "Share Issued                                        263080780.0   \n",
       "Total Debt                                         5021996000.0   \n",
       "Tangible Book Value                               49807808000.0   \n",
       "Invested Capital                                  50263587000.0   \n",
       "...                                                         ...   \n",
       "Cash Cash Equivalents And Short Term Investments   5771208000.0   \n",
       "Other Short Term Investments                       2707078000.0   \n",
       "Cash And Cash Equivalents                          3064130000.0   \n",
       "Cash Equivalents                                   2968948000.0   \n",
       "Cash Financial                                       95182000.0   \n",
       "\n",
       "                                                     2023-09-30     2023-03-31  \n",
       "Ordinary Shares Number                              263080780.0    263080780.0  \n",
       "Share Issued                                        263080780.0    263080780.0  \n",
       "Total Debt                                         5615053000.0   5873286000.0  \n",
       "Tangible Book Value                               46808525000.0  44019622000.0  \n",
       "Invested Capital                                  48437758000.0  45605162000.0  \n",
       "...                                                         ...            ...  \n",
       "Cash Cash Equivalents And Short Term Investments  37304151000.0   9520041000.0  \n",
       "Other Short Term Investments                      15800210000.0   5769820000.0  \n",
       "Cash And Cash Equivalents                         21503941000.0   3750221000.0  \n",
       "Cash Equivalents                                            NaN   3010776000.0  \n",
       "Cash Financial                                              NaN    739445000.0  \n",
       "\n",
       "[77 rows x 4 columns]"
      ]
     },
     "execution_count": 11,
     "metadata": {},
     "output_type": "execute_result"
    }
   ],
   "source": [
    "data.quarterly_balancesheet"
   ]
  },
  {
   "cell_type": "code",
   "execution_count": 12,
   "metadata": {},
   "outputs": [
    {
     "data": {
      "text/html": [
       "<div>\n",
       "<style scoped>\n",
       "    .dataframe tbody tr th:only-of-type {\n",
       "        vertical-align: middle;\n",
       "    }\n",
       "\n",
       "    .dataframe tbody tr th {\n",
       "        vertical-align: top;\n",
       "    }\n",
       "\n",
       "    .dataframe thead th {\n",
       "        text-align: right;\n",
       "    }\n",
       "</style>\n",
       "<table border=\"1\" class=\"dataframe\">\n",
       "  <thead>\n",
       "    <tr style=\"text-align: right;\">\n",
       "      <th></th>\n",
       "      <th>2024-03-31</th>\n",
       "      <th>2023-03-31</th>\n",
       "      <th>2022-03-31</th>\n",
       "      <th>2021-03-31</th>\n",
       "      <th>2020-03-31</th>\n",
       "    </tr>\n",
       "  </thead>\n",
       "  <tbody>\n",
       "    <tr>\n",
       "      <th>OrdinarySharesNumber</th>\n",
       "      <td>263080780.0</td>\n",
       "      <td>263080780.0</td>\n",
       "      <td>263080780.0</td>\n",
       "      <td>263080780.0</td>\n",
       "      <td>NaN</td>\n",
       "    </tr>\n",
       "    <tr>\n",
       "      <th>ShareIssued</th>\n",
       "      <td>263080780.0</td>\n",
       "      <td>263080780.0</td>\n",
       "      <td>263080780.0</td>\n",
       "      <td>263080780.0</td>\n",
       "      <td>NaN</td>\n",
       "    </tr>\n",
       "    <tr>\n",
       "      <th>TotalDebt</th>\n",
       "      <td>5021996000.0</td>\n",
       "      <td>5873286000.0</td>\n",
       "      <td>5537855000.0</td>\n",
       "      <td>5396414000.0</td>\n",
       "      <td>NaN</td>\n",
       "    </tr>\n",
       "    <tr>\n",
       "      <th>TangibleBookValue</th>\n",
       "      <td>49807808000.0</td>\n",
       "      <td>44019622000.0</td>\n",
       "      <td>43656370000.0</td>\n",
       "      <td>39702743000.0</td>\n",
       "      <td>NaN</td>\n",
       "    </tr>\n",
       "    <tr>\n",
       "      <th>InvestedCapital</th>\n",
       "      <td>50263587000.0</td>\n",
       "      <td>45605162000.0</td>\n",
       "      <td>45190016000.0</td>\n",
       "      <td>41564512000.0</td>\n",
       "      <td>NaN</td>\n",
       "    </tr>\n",
       "    <tr>\n",
       "      <th>...</th>\n",
       "      <td>...</td>\n",
       "      <td>...</td>\n",
       "      <td>...</td>\n",
       "      <td>...</td>\n",
       "      <td>...</td>\n",
       "    </tr>\n",
       "    <tr>\n",
       "      <th>CashCashEquivalentsAndShortTermInvestments</th>\n",
       "      <td>5771208000.0</td>\n",
       "      <td>9520041000.0</td>\n",
       "      <td>17504775000.0</td>\n",
       "      <td>7357089000.0</td>\n",
       "      <td>NaN</td>\n",
       "    </tr>\n",
       "    <tr>\n",
       "      <th>OtherShortTermInvestments</th>\n",
       "      <td>2707078000.0</td>\n",
       "      <td>5769820000.0</td>\n",
       "      <td>12469762000.0</td>\n",
       "      <td>70075000.0</td>\n",
       "      <td>NaN</td>\n",
       "    </tr>\n",
       "    <tr>\n",
       "      <th>CashAndCashEquivalents</th>\n",
       "      <td>3064130000.0</td>\n",
       "      <td>3750221000.0</td>\n",
       "      <td>5035013000.0</td>\n",
       "      <td>7287014000.0</td>\n",
       "      <td>NaN</td>\n",
       "    </tr>\n",
       "    <tr>\n",
       "      <th>CashEquivalents</th>\n",
       "      <td>2968948000.0</td>\n",
       "      <td>3010776000.0</td>\n",
       "      <td>3795242000.0</td>\n",
       "      <td>2417667000.0</td>\n",
       "      <td>NaN</td>\n",
       "    </tr>\n",
       "    <tr>\n",
       "      <th>CashFinancial</th>\n",
       "      <td>95182000.0</td>\n",
       "      <td>739445000.0</td>\n",
       "      <td>1239771000.0</td>\n",
       "      <td>4869347000.0</td>\n",
       "      <td>NaN</td>\n",
       "    </tr>\n",
       "  </tbody>\n",
       "</table>\n",
       "<p>80 rows × 5 columns</p>\n",
       "</div>"
      ],
      "text/plain": [
       "                                               2024-03-31     2023-03-31  \\\n",
       "OrdinarySharesNumber                          263080780.0    263080780.0   \n",
       "ShareIssued                                   263080780.0    263080780.0   \n",
       "TotalDebt                                    5021996000.0   5873286000.0   \n",
       "TangibleBookValue                           49807808000.0  44019622000.0   \n",
       "InvestedCapital                             50263587000.0  45605162000.0   \n",
       "...                                                   ...            ...   \n",
       "CashCashEquivalentsAndShortTermInvestments   5771208000.0   9520041000.0   \n",
       "OtherShortTermInvestments                    2707078000.0   5769820000.0   \n",
       "CashAndCashEquivalents                       3064130000.0   3750221000.0   \n",
       "CashEquivalents                              2968948000.0   3010776000.0   \n",
       "CashFinancial                                  95182000.0    739445000.0   \n",
       "\n",
       "                                               2022-03-31     2021-03-31  \\\n",
       "OrdinarySharesNumber                          263080780.0    263080780.0   \n",
       "ShareIssued                                   263080780.0    263080780.0   \n",
       "TotalDebt                                    5537855000.0   5396414000.0   \n",
       "TangibleBookValue                           43656370000.0  39702743000.0   \n",
       "InvestedCapital                             45190016000.0  41564512000.0   \n",
       "...                                                   ...            ...   \n",
       "CashCashEquivalentsAndShortTermInvestments  17504775000.0   7357089000.0   \n",
       "OtherShortTermInvestments                   12469762000.0     70075000.0   \n",
       "CashAndCashEquivalents                       5035013000.0   7287014000.0   \n",
       "CashEquivalents                              3795242000.0   2417667000.0   \n",
       "CashFinancial                                1239771000.0   4869347000.0   \n",
       "\n",
       "                                           2020-03-31  \n",
       "OrdinarySharesNumber                              NaN  \n",
       "ShareIssued                                       NaN  \n",
       "TotalDebt                                         NaN  \n",
       "TangibleBookValue                                 NaN  \n",
       "InvestedCapital                                   NaN  \n",
       "...                                               ...  \n",
       "CashCashEquivalentsAndShortTermInvestments        NaN  \n",
       "OtherShortTermInvestments                         NaN  \n",
       "CashAndCashEquivalents                            NaN  \n",
       "CashEquivalents                                   NaN  \n",
       "CashFinancial                                     NaN  \n",
       "\n",
       "[80 rows x 5 columns]"
      ]
     },
     "execution_count": 12,
     "metadata": {},
     "output_type": "execute_result"
    }
   ],
   "source": [
    "fundamentals = data._fundamentals\n",
    "\n",
    "fundamentals.financials.get_balance_sheet_time_series()\n"
   ]
  },
  {
   "cell_type": "code",
   "execution_count": 13,
   "metadata": {},
   "outputs": [],
   "source": [
    "eps = data.eps_trend"
   ]
  },
  {
   "cell_type": "code",
   "execution_count": 14,
   "metadata": {},
   "outputs": [],
   "source": [
    "today_eps = eps.iloc[2,:1]"
   ]
  },
  {
   "cell_type": "code",
   "execution_count": 15,
   "metadata": {},
   "outputs": [],
   "source": [
    "pe_ratio = data.fast_info['previousClose']/today_eps"
   ]
  },
  {
   "cell_type": "code",
   "execution_count": 16,
   "metadata": {},
   "outputs": [
    {
     "data": {
      "text/plain": [
       "current    48.136118\n",
       "Name: 0y, dtype: float64"
      ]
     },
     "execution_count": 16,
     "metadata": {},
     "output_type": "execute_result"
    }
   ],
   "source": [
    "pe_ratio"
   ]
  },
  {
   "cell_type": "code",
   "execution_count": 17,
   "metadata": {},
   "outputs": [],
   "source": [
    "market_cap = int(data.info['marketCap']/1000000)"
   ]
  },
  {
   "cell_type": "code",
   "execution_count": 18,
   "metadata": {},
   "outputs": [
    {
     "data": {
      "text/plain": [
       "'392,950'"
      ]
     },
     "execution_count": 18,
     "metadata": {},
     "output_type": "execute_result"
    }
   ],
   "source": [
    "formatted_market_cap = f\"{market_cap:,}\"\n",
    "formatted_market_cap"
   ]
  },
  {
   "cell_type": "code",
   "execution_count": 19,
   "metadata": {},
   "outputs": [
    {
     "data": {
      "text/plain": [
       "dict_keys(['address1', 'address2', 'city', 'zip', 'country', 'phone', 'fax', 'website', 'industry', 'industryKey', 'industryDisp', 'sector', 'sectorKey', 'sectorDisp', 'longBusinessSummary', 'fullTimeEmployees', 'companyOfficers', 'compensationAsOfEpochDate', 'maxAge', 'priceHint', 'previousClose', 'open', 'dayLow', 'dayHigh', 'regularMarketPreviousClose', 'regularMarketOpen', 'regularMarketDayLow', 'regularMarketDayHigh', 'dividendRate', 'dividendYield', 'exDividendDate', 'payoutRatio', 'fiveYearAvgDividendYield', 'beta', 'trailingPE', 'forwardPE', 'volume', 'regularMarketVolume', 'averageVolume', 'averageVolume10days', 'averageDailyVolume10Day', 'marketCap', 'fiftyTwoWeekLow', 'fiftyTwoWeekHigh', 'priceToSalesTrailing12Months', 'fiftyDayAverage', 'twoHundredDayAverage', 'trailingAnnualDividendRate', 'trailingAnnualDividendYield', 'currency', 'enterpriseValue', 'profitMargins', 'floatShares', 'sharesOutstanding', 'heldPercentInsiders', 'heldPercentInstitutions', 'impliedSharesOutstanding', 'bookValue', 'priceToBook', 'lastFiscalYearEnd', 'nextFiscalYearEnd', 'mostRecentQuarter', 'earningsQuarterlyGrowth', 'netIncomeToCommon', 'trailingEps', 'forwardEps', 'lastSplitFactor', 'lastSplitDate', 'enterpriseToRevenue', 'enterpriseToEbitda', '52WeekChange', 'SandP52WeekChange', 'lastDividendValue', 'lastDividendDate', 'exchange', 'quoteType', 'symbol', 'underlyingSymbol', 'shortName', 'longName', 'firstTradeDateEpochUtc', 'timeZoneFullName', 'timeZoneShortName', 'uuid', 'messageBoardId', 'gmtOffSetMilliseconds', 'currentPrice', 'targetHighPrice', 'targetLowPrice', 'targetMeanPrice', 'targetMedianPrice', 'recommendationKey', 'numberOfAnalystOpinions', 'totalCash', 'totalCashPerShare', 'ebitda', 'totalDebt', 'quickRatio', 'currentRatio', 'totalRevenue', 'debtToEquity', 'revenuePerShare', 'returnOnAssets', 'returnOnEquity', 'freeCashflow', 'operatingCashflow', 'earningsGrowth', 'revenueGrowth', 'grossMargins', 'ebitdaMargins', 'operatingMargins', 'financialCurrency', 'trailingPegRatio'])"
      ]
     },
     "execution_count": 19,
     "metadata": {},
     "output_type": "execute_result"
    }
   ],
   "source": [
    "data.info.keys()"
   ]
  },
  {
   "cell_type": "code",
   "execution_count": 20,
   "metadata": {},
   "outputs": [],
   "source": [
    "def convert_to_indian_format(number):\n",
    "    if number >= 1e12:\n",
    "        return f\"{number// 1e12} Lakh Crore\"\n",
    "    elif number>=1e11:\n",
    "        return f\"{number// 1e11} Thousand Crore\"\n",
    "    elif number >=1e9:\n",
    "        return f\"{number // 1e9} Crore\"\n",
    "    elif number >=1e7:\n",
    "        return f\"{number // 1e7} Lakh\"\n",
    "    elif number >=1e5:\n",
    "        return f\"{number // 1e5} Thousand\"\n",
    "    else:\n",
    "        return str(number)\n",
    "    "
   ]
  },
  {
   "cell_type": "code",
   "execution_count": 21,
   "metadata": {},
   "outputs": [],
   "source": [
    "market_cap = data.info['marketCap']\n",
    "current_price = data.info['currentPrice']\n",
    "low,high = data.info['fiftyTwoWeekLow'],data.info['fiftyTwoWeekHigh']\n",
    "eps = data.info['trailingEps']\n",
    "pe_ratio = data.info['trailingPE']\n",
    "roe  = f\"{data.info['returnOnEquity']*100:.2f}%\"\n",
    "debt_to_equity = data.info['debtToEquity']\n",
    "book_value = data.info['bookValue']\n",
    "\n",
    "\n",
    "\n"
   ]
  },
  {
   "cell_type": "code",
   "execution_count": 22,
   "metadata": {},
   "outputs": [],
   "source": [
    "dividend = f\"{data.info['dividendYield']*100:.2f}%\"\n",
    "roa = data.info['returnOnAssets']\n",
    "currentRatio = data.info['currentRatio']\n",
    "payoutRatio = data.info['payoutRatio']"
   ]
  },
  {
   "cell_type": "code",
   "execution_count": 23,
   "metadata": {},
   "outputs": [
    {
     "data": {
      "text/plain": [
       "DatetimeIndex(['2024-03-31', '2023-03-31', '2022-03-31', '2021-03-31',\n",
       "               '2020-03-31'],\n",
       "              dtype='datetime64[ns]', freq=None)"
      ]
     },
     "execution_count": 23,
     "metadata": {},
     "output_type": "execute_result"
    }
   ],
   "source": [
    "data.balancesheet.columns"
   ]
  },
  {
   "cell_type": "code",
   "execution_count": 24,
   "metadata": {},
   "outputs": [],
   "source": [
    "data = yf.Ticker(\"ARE&M.NS\")\n",
    "metadata = data.get_info()"
   ]
  },
  {
   "cell_type": "code",
   "execution_count": 25,
   "metadata": {},
   "outputs": [
    {
     "ename": "KeyError",
     "evalue": "'eq'",
     "output_type": "error",
     "traceback": [
      "\u001b[1;31m---------------------------------------------------------------------------\u001b[0m",
      "\u001b[1;31mKeyError\u001b[0m                                  Traceback (most recent call last)",
      "Cell \u001b[1;32mIn[25], line 1\u001b[0m\n\u001b[1;32m----> 1\u001b[0m \u001b[43mmetadata\u001b[49m\u001b[43m[\u001b[49m\u001b[38;5;124;43m'\u001b[39;49m\u001b[38;5;124;43meq\u001b[39;49m\u001b[38;5;124;43m'\u001b[39;49m\u001b[43m]\u001b[49m\n",
      "\u001b[1;31mKeyError\u001b[0m: 'eq'"
     ]
    }
   ],
   "source": [
    "metadata['eq']"
   ]
  }
 ],
 "metadata": {
  "kernelspec": {
   "display_name": "Python 3",
   "language": "python",
   "name": "python3"
  },
  "language_info": {
   "codemirror_mode": {
    "name": "ipython",
    "version": 3
   },
   "file_extension": ".py",
   "mimetype": "text/x-python",
   "name": "python",
   "nbconvert_exporter": "python",
   "pygments_lexer": "ipython3",
   "version": "3.9.13"
  }
 },
 "nbformat": 4,
 "nbformat_minor": 2
}
