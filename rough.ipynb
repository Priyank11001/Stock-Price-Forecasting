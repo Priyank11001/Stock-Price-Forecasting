{
 "cells": [
  {
   "cell_type": "code",
   "execution_count": 2,
   "metadata": {},
   "outputs": [],
   "source": [
    "import yfinance as yf\n",
    "\n",
    "data = yf.Ticker(\"RELIANCE.NS\")"
   ]
  },
  {
   "cell_type": "code",
   "execution_count": 9,
   "metadata": {},
   "outputs": [],
   "source": [
    "info = data.info"
   ]
  },
  {
   "cell_type": "code",
   "execution_count": 12,
   "metadata": {},
   "outputs": [
    {
     "data": {
      "text/plain": [
       "dict_keys(['address1', 'address2', 'city', 'zip', 'country', 'phone', 'fax', 'website', 'industry', 'industryKey', 'industryDisp', 'sector', 'sectorKey', 'sectorDisp', 'longBusinessSummary', 'fullTimeEmployees', 'companyOfficers', 'auditRisk', 'boardRisk', 'compensationRisk', 'shareHolderRightsRisk', 'overallRisk', 'governanceEpochDate', 'compensationAsOfEpochDate', 'irWebsite', 'maxAge', 'priceHint', 'previousClose', 'open', 'dayLow', 'dayHigh', 'regularMarketPreviousClose', 'regularMarketOpen', 'regularMarketDayLow', 'regularMarketDayHigh', 'dividendRate', 'dividendYield', 'exDividendDate', 'payoutRatio', 'fiveYearAvgDividendYield', 'beta', 'trailingPE', 'forwardPE', 'volume', 'regularMarketVolume', 'averageVolume', 'averageVolume10days', 'averageDailyVolume10Day', 'bid', 'ask', 'marketCap', 'fiftyTwoWeekLow', 'fiftyTwoWeekHigh', 'priceToSalesTrailing12Months', 'fiftyDayAverage', 'twoHundredDayAverage', 'trailingAnnualDividendRate', 'trailingAnnualDividendYield', 'currency', 'enterpriseValue', 'profitMargins', 'floatShares', 'sharesOutstanding', 'heldPercentInsiders', 'heldPercentInstitutions', 'impliedSharesOutstanding', 'bookValue', 'priceToBook', 'lastFiscalYearEnd', 'nextFiscalYearEnd', 'mostRecentQuarter', 'earningsQuarterlyGrowth', 'netIncomeToCommon', 'trailingEps', 'forwardEps', 'lastSplitFactor', 'lastSplitDate', 'enterpriseToRevenue', 'enterpriseToEbitda', '52WeekChange', 'SandP52WeekChange', 'lastDividendValue', 'lastDividendDate', 'exchange', 'quoteType', 'symbol', 'underlyingSymbol', 'shortName', 'longName', 'firstTradeDateEpochUtc', 'timeZoneFullName', 'timeZoneShortName', 'uuid', 'messageBoardId', 'gmtOffSetMilliseconds', 'currentPrice', 'targetHighPrice', 'targetLowPrice', 'targetMeanPrice', 'targetMedianPrice', 'recommendationMean', 'recommendationKey', 'numberOfAnalystOpinions', 'totalCash', 'totalCashPerShare', 'ebitda', 'totalDebt', 'quickRatio', 'currentRatio', 'totalRevenue', 'debtToEquity', 'revenuePerShare', 'returnOnAssets', 'returnOnEquity', 'freeCashflow', 'operatingCashflow', 'earningsGrowth', 'revenueGrowth', 'grossMargins', 'ebitdaMargins', 'operatingMargins', 'financialCurrency', 'trailingPegRatio'])"
      ]
     },
     "execution_count": 12,
     "metadata": {},
     "output_type": "execute_result"
    }
   ],
   "source": [
    "info.keys()"
   ]
  },
  {
   "cell_type": "code",
   "execution_count": 11,
   "metadata": {},
   "outputs": [
    {
     "data": {
      "text/plain": [
       "'India'"
      ]
     },
     "execution_count": 11,
     "metadata": {},
     "output_type": "execute_result"
    }
   ],
   "source": [
    "info['country'],info['sector'],info['website'],"
   ]
  },
  {
   "cell_type": "code",
   "execution_count": 20,
   "metadata": {},
   "outputs": [],
   "source": [
    "promoter = info['companyOfficers'][0]"
   ]
  },
  {
   "cell_type": "code",
   "execution_count": 25,
   "metadata": {},
   "outputs": [
    {
     "data": {
      "text/plain": [
       "('Mr. Mukesh Dhirubhai Ambani', 'Chairman & MD')"
      ]
     },
     "execution_count": 25,
     "metadata": {},
     "output_type": "execute_result"
    }
   ],
   "source": [
    "promoter['name'],promoter['title']"
   ]
  },
  {
   "cell_type": "code",
   "execution_count": 27,
   "metadata": {},
   "outputs": [],
   "source": [
    "promoters = data.info['companyOfficers']"
   ]
  },
  {
   "cell_type": "code",
   "execution_count": 28,
   "metadata": {},
   "outputs": [
    {
     "data": {
      "text/plain": [
       "[{'maxAge': 1,\n",
       "  'name': 'Mr. Mukesh Dhirubhai Ambani',\n",
       "  'age': 66,\n",
       "  'title': 'Chairman & MD',\n",
       "  'yearBorn': 1957,\n",
       "  'fiscalYear': 2024,\n",
       "  'exercisedValue': 0,\n",
       "  'unexercisedValue': 0},\n",
       " {'maxAge': 1,\n",
       "  'name': 'Mr. Nikhil Rasiklal Meswani',\n",
       "  'age': 57,\n",
       "  'title': 'Executive Director',\n",
       "  'yearBorn': 1966,\n",
       "  'fiscalYear': 2024,\n",
       "  'totalPay': 253100000,\n",
       "  'exercisedValue': 0,\n",
       "  'unexercisedValue': 0},\n",
       " {'maxAge': 1,\n",
       "  'name': 'Mr. Hital Rasiklal Meswani',\n",
       "  'age': 55,\n",
       "  'title': 'Executive Director',\n",
       "  'yearBorn': 1968,\n",
       "  'fiscalYear': 2024,\n",
       "  'totalPay': 254200000,\n",
       "  'exercisedValue': 0,\n",
       "  'unexercisedValue': 0},\n",
       " {'maxAge': 1,\n",
       "  'name': 'Mr. Panda Madhusudana Siva Prasad',\n",
       "  'age': 71,\n",
       "  'title': 'Executive Director',\n",
       "  'yearBorn': 1952,\n",
       "  'fiscalYear': 2024,\n",
       "  'totalPay': 179300000,\n",
       "  'exercisedValue': 0,\n",
       "  'unexercisedValue': 0},\n",
       " {'maxAge': 1,\n",
       "  'name': 'Ms. Parul  Sharma',\n",
       "  'title': 'Group President',\n",
       "  'fiscalYear': 2024,\n",
       "  'exercisedValue': 0,\n",
       "  'unexercisedValue': 0},\n",
       " {'maxAge': 1,\n",
       "  'name': 'Mr. Srikanth  Venkatachari',\n",
       "  'age': 57,\n",
       "  'title': 'Chief Financial Officer',\n",
       "  'yearBorn': 1966,\n",
       "  'fiscalYear': 2024,\n",
       "  'exercisedValue': 0,\n",
       "  'unexercisedValue': 0},\n",
       " {'maxAge': 1,\n",
       "  'name': 'Mr. Hemen Kanu Modi',\n",
       "  'title': 'Vice President of Investor Relations',\n",
       "  'fiscalYear': 2024,\n",
       "  'exercisedValue': 0,\n",
       "  'unexercisedValue': 0},\n",
       " {'maxAge': 1,\n",
       "  'name': 'Ms. Savithri  Parekh',\n",
       "  'title': 'Company Secretary & Compliance Officer',\n",
       "  'fiscalYear': 2024,\n",
       "  'exercisedValue': 0,\n",
       "  'unexercisedValue': 0},\n",
       " {'maxAge': 1,\n",
       "  'name': 'Mr. Rohit  Bansal',\n",
       "  'title': 'Group Head of Communications',\n",
       "  'fiscalYear': 2024,\n",
       "  'exercisedValue': 0,\n",
       "  'unexercisedValue': 0},\n",
       " {'maxAge': 1,\n",
       "  'name': 'Mr. Mukund  Pendse',\n",
       "  'title': 'Marketing Manager',\n",
       "  'fiscalYear': 2024,\n",
       "  'exercisedValue': 0,\n",
       "  'unexercisedValue': 0}]"
      ]
     },
     "execution_count": 28,
     "metadata": {},
     "output_type": "execute_result"
    }
   ],
   "source": [
    "promoters"
   ]
  },
  {
   "cell_type": "code",
   "execution_count": 30,
   "metadata": {},
   "outputs": [
    {
     "data": {
      "text/plain": [
       "lazy-loading dict with keys = ['currency', 'dayHigh', 'dayLow', 'exchange', 'fiftyDayAverage', 'lastPrice', 'lastVolume', 'marketCap', 'open', 'previousClose', 'quoteType', 'regularMarketPreviousClose', 'shares', 'tenDayAverageVolume', 'threeMonthAverageVolume', 'timezone', 'twoHundredDayAverage', 'yearChange', 'yearHigh', 'yearLow']"
      ]
     },
     "execution_count": 30,
     "metadata": {},
     "output_type": "execute_result"
    }
   ],
   "source": [
    "data.fast_info"
   ]
  }
 ],
 "metadata": {
  "kernelspec": {
   "display_name": "Python 3",
   "language": "python",
   "name": "python3"
  },
  "language_info": {
   "codemirror_mode": {
    "name": "ipython",
    "version": 3
   },
   "file_extension": ".py",
   "mimetype": "text/x-python",
   "name": "python",
   "nbconvert_exporter": "python",
   "pygments_lexer": "ipython3",
   "version": "3.9.13"
  }
 },
 "nbformat": 4,
 "nbformat_minor": 2
}
