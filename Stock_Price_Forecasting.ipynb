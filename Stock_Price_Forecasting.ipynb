{
  "cells": [
    {
      "cell_type": "markdown",
      "metadata": {
        "id": "mVFlzgOCNcBj"
      },
      "source": [
        "importing Necessary Libraries"
      ]
    },
    {
      "cell_type": "code",
      "source": [
        "# !pip install yfinance"
      ],
      "metadata": {
        "id": "bhrpzRCeZosQ"
      },
      "execution_count": 117,
      "outputs": []
    },
    {
      "cell_type": "code",
      "execution_count": 118,
      "metadata": {
        "id": "Uon4HrkqNCfY"
      },
      "outputs": [],
      "source": [
        "import yfinance as yf\n",
        "import numpy as np\n",
        "from sklearn.preprocessing import MinMaxScaler\n",
        "import matplotlib.pyplot as plt\n",
        "import tensorflow as tf\n",
        "from tensorflow.keras.models import Sequential\n",
        "from tensorflow.keras.layers import Dense,LSTM,Dropout,BatchNormalization,SpatialDropout1D\n",
        "from tensorflow.keras.callbacks import ModelCheckpoint"
      ]
    },
    {
      "cell_type": "code",
      "execution_count": 119,
      "metadata": {
        "colab": {
          "base_uri": "https://localhost:8080/",
          "height": 223
        },
        "id": "EPvyNVi0NbCj",
        "outputId": "aac0a677-7ba9-4eeb-ab45-ac1e2cd24519"
      },
      "outputs": [
        {
          "output_type": "stream",
          "name": "stderr",
          "text": [
            "\r[*********************100%***********************]  1 of 1 completed\n"
          ]
        },
        {
          "output_type": "execute_result",
          "data": {
            "text/plain": [
              "Price       Date  Adj Close     Close      High       Low      Open     Volume\n",
              "0     1996-01-01   3.619125  7.345901  7.358397  7.270925  7.319124  104121369\n",
              "1     1996-01-02   3.590981  7.288776  7.363753  7.235222  7.328050  168743308\n",
              "2     1996-01-03   3.618245  7.344116  7.745775  7.328050  7.408381  209323879\n",
              "3     1996-01-04   3.584825  7.276280  7.297702  7.178097  7.274495  216900264\n",
              "4     1996-01-05   3.560199  7.226296  7.247718  7.163816  7.247718  166708467"
            ],
            "text/html": [
              "\n",
              "  <div id=\"df-2949ef1a-ec26-4ef2-a857-3aae9a8cc22b\" class=\"colab-df-container\">\n",
              "    <div>\n",
              "<style scoped>\n",
              "    .dataframe tbody tr th:only-of-type {\n",
              "        vertical-align: middle;\n",
              "    }\n",
              "\n",
              "    .dataframe tbody tr th {\n",
              "        vertical-align: top;\n",
              "    }\n",
              "\n",
              "    .dataframe thead th {\n",
              "        text-align: right;\n",
              "    }\n",
              "</style>\n",
              "<table border=\"1\" class=\"dataframe\">\n",
              "  <thead>\n",
              "    <tr style=\"text-align: right;\">\n",
              "      <th>Price</th>\n",
              "      <th>Date</th>\n",
              "      <th>Adj Close</th>\n",
              "      <th>Close</th>\n",
              "      <th>High</th>\n",
              "      <th>Low</th>\n",
              "      <th>Open</th>\n",
              "      <th>Volume</th>\n",
              "    </tr>\n",
              "  </thead>\n",
              "  <tbody>\n",
              "    <tr>\n",
              "      <th>0</th>\n",
              "      <td>1996-01-01</td>\n",
              "      <td>3.619125</td>\n",
              "      <td>7.345901</td>\n",
              "      <td>7.358397</td>\n",
              "      <td>7.270925</td>\n",
              "      <td>7.319124</td>\n",
              "      <td>104121369</td>\n",
              "    </tr>\n",
              "    <tr>\n",
              "      <th>1</th>\n",
              "      <td>1996-01-02</td>\n",
              "      <td>3.590981</td>\n",
              "      <td>7.288776</td>\n",
              "      <td>7.363753</td>\n",
              "      <td>7.235222</td>\n",
              "      <td>7.328050</td>\n",
              "      <td>168743308</td>\n",
              "    </tr>\n",
              "    <tr>\n",
              "      <th>2</th>\n",
              "      <td>1996-01-03</td>\n",
              "      <td>3.618245</td>\n",
              "      <td>7.344116</td>\n",
              "      <td>7.745775</td>\n",
              "      <td>7.328050</td>\n",
              "      <td>7.408381</td>\n",
              "      <td>209323879</td>\n",
              "    </tr>\n",
              "    <tr>\n",
              "      <th>3</th>\n",
              "      <td>1996-01-04</td>\n",
              "      <td>3.584825</td>\n",
              "      <td>7.276280</td>\n",
              "      <td>7.297702</td>\n",
              "      <td>7.178097</td>\n",
              "      <td>7.274495</td>\n",
              "      <td>216900264</td>\n",
              "    </tr>\n",
              "    <tr>\n",
              "      <th>4</th>\n",
              "      <td>1996-01-05</td>\n",
              "      <td>3.560199</td>\n",
              "      <td>7.226296</td>\n",
              "      <td>7.247718</td>\n",
              "      <td>7.163816</td>\n",
              "      <td>7.247718</td>\n",
              "      <td>166708467</td>\n",
              "    </tr>\n",
              "  </tbody>\n",
              "</table>\n",
              "</div>\n",
              "    <div class=\"colab-df-buttons\">\n",
              "\n",
              "  <div class=\"colab-df-container\">\n",
              "    <button class=\"colab-df-convert\" onclick=\"convertToInteractive('df-2949ef1a-ec26-4ef2-a857-3aae9a8cc22b')\"\n",
              "            title=\"Convert this dataframe to an interactive table.\"\n",
              "            style=\"display:none;\">\n",
              "\n",
              "  <svg xmlns=\"http://www.w3.org/2000/svg\" height=\"24px\" viewBox=\"0 -960 960 960\">\n",
              "    <path d=\"M120-120v-720h720v720H120Zm60-500h600v-160H180v160Zm220 220h160v-160H400v160Zm0 220h160v-160H400v160ZM180-400h160v-160H180v160Zm440 0h160v-160H620v160ZM180-180h160v-160H180v160Zm440 0h160v-160H620v160Z\"/>\n",
              "  </svg>\n",
              "    </button>\n",
              "\n",
              "  <style>\n",
              "    .colab-df-container {\n",
              "      display:flex;\n",
              "      gap: 12px;\n",
              "    }\n",
              "\n",
              "    .colab-df-convert {\n",
              "      background-color: #E8F0FE;\n",
              "      border: none;\n",
              "      border-radius: 50%;\n",
              "      cursor: pointer;\n",
              "      display: none;\n",
              "      fill: #1967D2;\n",
              "      height: 32px;\n",
              "      padding: 0 0 0 0;\n",
              "      width: 32px;\n",
              "    }\n",
              "\n",
              "    .colab-df-convert:hover {\n",
              "      background-color: #E2EBFA;\n",
              "      box-shadow: 0px 1px 2px rgba(60, 64, 67, 0.3), 0px 1px 3px 1px rgba(60, 64, 67, 0.15);\n",
              "      fill: #174EA6;\n",
              "    }\n",
              "\n",
              "    .colab-df-buttons div {\n",
              "      margin-bottom: 4px;\n",
              "    }\n",
              "\n",
              "    [theme=dark] .colab-df-convert {\n",
              "      background-color: #3B4455;\n",
              "      fill: #D2E3FC;\n",
              "    }\n",
              "\n",
              "    [theme=dark] .colab-df-convert:hover {\n",
              "      background-color: #434B5C;\n",
              "      box-shadow: 0px 1px 3px 1px rgba(0, 0, 0, 0.15);\n",
              "      filter: drop-shadow(0px 1px 2px rgba(0, 0, 0, 0.3));\n",
              "      fill: #FFFFFF;\n",
              "    }\n",
              "  </style>\n",
              "\n",
              "    <script>\n",
              "      const buttonEl =\n",
              "        document.querySelector('#df-2949ef1a-ec26-4ef2-a857-3aae9a8cc22b button.colab-df-convert');\n",
              "      buttonEl.style.display =\n",
              "        google.colab.kernel.accessAllowed ? 'block' : 'none';\n",
              "\n",
              "      async function convertToInteractive(key) {\n",
              "        const element = document.querySelector('#df-2949ef1a-ec26-4ef2-a857-3aae9a8cc22b');\n",
              "        const dataTable =\n",
              "          await google.colab.kernel.invokeFunction('convertToInteractive',\n",
              "                                                    [key], {});\n",
              "        if (!dataTable) return;\n",
              "\n",
              "        const docLinkHtml = 'Like what you see? Visit the ' +\n",
              "          '<a target=\"_blank\" href=https://colab.research.google.com/notebooks/data_table.ipynb>data table notebook</a>'\n",
              "          + ' to learn more about interactive tables.';\n",
              "        element.innerHTML = '';\n",
              "        dataTable['output_type'] = 'display_data';\n",
              "        await google.colab.output.renderOutput(dataTable, element);\n",
              "        const docLink = document.createElement('div');\n",
              "        docLink.innerHTML = docLinkHtml;\n",
              "        element.appendChild(docLink);\n",
              "      }\n",
              "    </script>\n",
              "  </div>\n",
              "\n",
              "\n",
              "<div id=\"df-1164627e-f069-497d-9d11-5e9c9115d557\">\n",
              "  <button class=\"colab-df-quickchart\" onclick=\"quickchart('df-1164627e-f069-497d-9d11-5e9c9115d557')\"\n",
              "            title=\"Suggest charts\"\n",
              "            style=\"display:none;\">\n",
              "\n",
              "<svg xmlns=\"http://www.w3.org/2000/svg\" height=\"24px\"viewBox=\"0 0 24 24\"\n",
              "     width=\"24px\">\n",
              "    <g>\n",
              "        <path d=\"M19 3H5c-1.1 0-2 .9-2 2v14c0 1.1.9 2 2 2h14c1.1 0 2-.9 2-2V5c0-1.1-.9-2-2-2zM9 17H7v-7h2v7zm4 0h-2V7h2v10zm4 0h-2v-4h2v4z\"/>\n",
              "    </g>\n",
              "</svg>\n",
              "  </button>\n",
              "\n",
              "<style>\n",
              "  .colab-df-quickchart {\n",
              "      --bg-color: #E8F0FE;\n",
              "      --fill-color: #1967D2;\n",
              "      --hover-bg-color: #E2EBFA;\n",
              "      --hover-fill-color: #174EA6;\n",
              "      --disabled-fill-color: #AAA;\n",
              "      --disabled-bg-color: #DDD;\n",
              "  }\n",
              "\n",
              "  [theme=dark] .colab-df-quickchart {\n",
              "      --bg-color: #3B4455;\n",
              "      --fill-color: #D2E3FC;\n",
              "      --hover-bg-color: #434B5C;\n",
              "      --hover-fill-color: #FFFFFF;\n",
              "      --disabled-bg-color: #3B4455;\n",
              "      --disabled-fill-color: #666;\n",
              "  }\n",
              "\n",
              "  .colab-df-quickchart {\n",
              "    background-color: var(--bg-color);\n",
              "    border: none;\n",
              "    border-radius: 50%;\n",
              "    cursor: pointer;\n",
              "    display: none;\n",
              "    fill: var(--fill-color);\n",
              "    height: 32px;\n",
              "    padding: 0;\n",
              "    width: 32px;\n",
              "  }\n",
              "\n",
              "  .colab-df-quickchart:hover {\n",
              "    background-color: var(--hover-bg-color);\n",
              "    box-shadow: 0 1px 2px rgba(60, 64, 67, 0.3), 0 1px 3px 1px rgba(60, 64, 67, 0.15);\n",
              "    fill: var(--button-hover-fill-color);\n",
              "  }\n",
              "\n",
              "  .colab-df-quickchart-complete:disabled,\n",
              "  .colab-df-quickchart-complete:disabled:hover {\n",
              "    background-color: var(--disabled-bg-color);\n",
              "    fill: var(--disabled-fill-color);\n",
              "    box-shadow: none;\n",
              "  }\n",
              "\n",
              "  .colab-df-spinner {\n",
              "    border: 2px solid var(--fill-color);\n",
              "    border-color: transparent;\n",
              "    border-bottom-color: var(--fill-color);\n",
              "    animation:\n",
              "      spin 1s steps(1) infinite;\n",
              "  }\n",
              "\n",
              "  @keyframes spin {\n",
              "    0% {\n",
              "      border-color: transparent;\n",
              "      border-bottom-color: var(--fill-color);\n",
              "      border-left-color: var(--fill-color);\n",
              "    }\n",
              "    20% {\n",
              "      border-color: transparent;\n",
              "      border-left-color: var(--fill-color);\n",
              "      border-top-color: var(--fill-color);\n",
              "    }\n",
              "    30% {\n",
              "      border-color: transparent;\n",
              "      border-left-color: var(--fill-color);\n",
              "      border-top-color: var(--fill-color);\n",
              "      border-right-color: var(--fill-color);\n",
              "    }\n",
              "    40% {\n",
              "      border-color: transparent;\n",
              "      border-right-color: var(--fill-color);\n",
              "      border-top-color: var(--fill-color);\n",
              "    }\n",
              "    60% {\n",
              "      border-color: transparent;\n",
              "      border-right-color: var(--fill-color);\n",
              "    }\n",
              "    80% {\n",
              "      border-color: transparent;\n",
              "      border-right-color: var(--fill-color);\n",
              "      border-bottom-color: var(--fill-color);\n",
              "    }\n",
              "    90% {\n",
              "      border-color: transparent;\n",
              "      border-bottom-color: var(--fill-color);\n",
              "    }\n",
              "  }\n",
              "</style>\n",
              "\n",
              "  <script>\n",
              "    async function quickchart(key) {\n",
              "      const quickchartButtonEl =\n",
              "        document.querySelector('#' + key + ' button');\n",
              "      quickchartButtonEl.disabled = true;  // To prevent multiple clicks.\n",
              "      quickchartButtonEl.classList.add('colab-df-spinner');\n",
              "      try {\n",
              "        const charts = await google.colab.kernel.invokeFunction(\n",
              "            'suggestCharts', [key], {});\n",
              "      } catch (error) {\n",
              "        console.error('Error during call to suggestCharts:', error);\n",
              "      }\n",
              "      quickchartButtonEl.classList.remove('colab-df-spinner');\n",
              "      quickchartButtonEl.classList.add('colab-df-quickchart-complete');\n",
              "    }\n",
              "    (() => {\n",
              "      let quickchartButtonEl =\n",
              "        document.querySelector('#df-1164627e-f069-497d-9d11-5e9c9115d557 button');\n",
              "      quickchartButtonEl.style.display =\n",
              "        google.colab.kernel.accessAllowed ? 'block' : 'none';\n",
              "    })();\n",
              "  </script>\n",
              "</div>\n",
              "\n",
              "    </div>\n",
              "  </div>\n"
            ],
            "application/vnd.google.colaboratory.intrinsic+json": {
              "type": "dataframe",
              "variable_name": "data",
              "summary": "{\n  \"name\": \"data\",\n  \"rows\": 7269,\n  \"fields\": [\n    {\n      \"column\": \"Date\",\n      \"properties\": {\n        \"dtype\": \"date\",\n        \"min\": \"1996-01-01 00:00:00\",\n        \"max\": \"2024-12-12 00:00:00\",\n        \"num_unique_values\": 7269,\n        \"samples\": [\n          \"2020-05-12 00:00:00\",\n          \"2017-07-06 00:00:00\",\n          \"2023-03-29 00:00:00\"\n        ],\n        \"semantic_type\": \"\",\n        \"description\": \"\"\n      }\n    },\n    {\n      \"column\": \"Adj Close\",\n      \"properties\": {\n        \"dtype\": \"number\",\n        \"std\": 395.5228582717271,\n        \"min\": 2.7035703659057617,\n        \"max\": 1595.4849853515625,\n        \"num_unique_values\": 6893,\n        \"samples\": [\n          17.07283592224121,\n          1077.08544921875,\n          14.286483764648438\n        ],\n        \"semantic_type\": \"\",\n        \"description\": \"\"\n      }\n    },\n    {\n      \"column\": \"Close\",\n      \"properties\": {\n        \"dtype\": \"number\",\n        \"std\": 395.3061654428186,\n        \"min\": 5.487557888031006,\n        \"max\": 1600.9000244140625,\n        \"num_unique_values\": 6571,\n        \"samples\": [\n          188.23825073242188,\n          187.20962524414062,\n          130.2866973876953\n        ],\n        \"semantic_type\": \"\",\n        \"description\": \"\"\n      }\n    },\n    {\n      \"column\": \"High\",\n      \"properties\": {\n        \"dtype\": \"number\",\n        \"std\": 399.2839303398983,\n        \"min\": 5.487557888031006,\n        \"max\": 1608.800048828125,\n        \"num_unique_values\": 6079,\n        \"samples\": [\n          188.5239715576172,\n          10.685920715332031,\n          13.456477165222168\n        ],\n        \"semantic_type\": \"\",\n        \"description\": \"\"\n      }\n    },\n    {\n      \"column\": \"Low\",\n      \"properties\": {\n        \"dtype\": \"number\",\n        \"std\": 391.6399470184852,\n        \"min\": 5.428647994995117,\n        \"max\": 1585.5,\n        \"num_unique_values\": 6177,\n        \"samples\": [\n          149.16195678710938,\n          264.2078552246094,\n          200.44459533691406\n        ],\n        \"semantic_type\": \"\",\n        \"description\": \"\"\n      }\n    },\n    {\n      \"column\": \"Open\",\n      \"properties\": {\n        \"dtype\": \"number\",\n        \"std\": 395.57849064960385,\n        \"min\": 5.462564945220947,\n        \"max\": 1604.449951171875,\n        \"num_unique_values\": 5534,\n        \"samples\": [\n          189.58688354492188,\n          41.854679107666016,\n          40.34444046020508\n        ],\n        \"semantic_type\": \"\",\n        \"description\": \"\"\n      }\n    },\n    {\n      \"column\": \"Volume\",\n      \"properties\": {\n        \"dtype\": \"number\",\n        \"std\": 102357635,\n        \"min\": 0,\n        \"max\": 1448889005,\n        \"num_unique_values\": 7155,\n        \"samples\": [\n          39943702,\n          80998549,\n          11668233\n        ],\n        \"semantic_type\": \"\",\n        \"description\": \"\"\n      }\n    }\n  ]\n}"
            }
          },
          "metadata": {},
          "execution_count": 119
        }
      ],
      "source": [
        "data = yf.download(\"RELIANCE.NS\")\n",
        "data.columns = data.columns.droplevel(1)\n",
        "data.reset_index(inplace = True)\n",
        "data.head()"
      ]
    },
    {
      "cell_type": "code",
      "execution_count": 120,
      "metadata": {
        "id": "PVGNrRVPOqkh"
      },
      "outputs": [],
      "source": [
        "# data['MA50'] = data['Close'].rolling(50).mean()\n",
        "# data['MA200'] = data['Close'].rolling(200).mean()\n",
        "# data['EMA50'] = data['Close'].ewm(span = 50,adjust = False).mean()\n",
        "# data['EMA200'] = data['Close'].ewm(span = 200,adjust = False).mean()\n",
        "\n",
        "# def compute_rsi(data, window_length=14):\n",
        "#     delta = data.diff()\n",
        "\n",
        "#     gain = (delta.where(delta > 0, 0))\n",
        "#     loss = (-delta.where(delta < 0, 0))\n",
        "\n",
        "#     avg_gain = gain.rolling(window=window_length, min_periods=1).mean()\n",
        "#     avg_loss = loss.rolling(window=window_length, min_periods=1).mean()\n",
        "#     rs = avg_gain / avg_loss\n",
        "\n",
        "#     rsi = 100 - (100 / (1 + rs))\n",
        "\n",
        "#     return rsi\n",
        "\n",
        "# data['RSI'] = compute_rsi(data['Close'])\n"
      ]
    },
    {
      "cell_type": "markdown",
      "metadata": {
        "id": "e1sAjkrZi4pB"
      },
      "source": [
        "**Purpose : To identify the trend whether the trend of stock price is positive or negative at current time.**"
      ]
    },
    {
      "cell_type": "code",
      "execution_count": 121,
      "metadata": {
        "id": "iYXch-uCRQlO"
      },
      "outputs": [],
      "source": [
        "# def calculate_supertrend(data,period = 14,multiplier = 3):\n",
        "#   data['H-L'] = data['High'] -data['Low']\n",
        "#   data['H-PC'] = np.abs(data['High'] - data['Close'].shift())\n",
        "#   data['L-PC'] = np.abs(data['Low'] - data['Close'].shift())\n",
        "#   data['TR'] = 0\n",
        "#   data['TR'] = data[['H-L','H-PC','L-PC','TR']].max(axis = 1)\n",
        "\n",
        "#   data['ATR'] = data['TR'].rolling(period).mean()\n",
        "\n",
        "#   data['Upperband'] =( data['High'] + data['Low'])/ 2 + (multiplier * data['ATR'])\n",
        "#   data['Lowerband'] = (data['High'] + data['Low']) /2 - (multiplier * data['ATR'])\n",
        "\n",
        "#   data['Supertrend'] = 0.0\n",
        "\n",
        "#   for i in range(period,len(data)):\n",
        "#     if data['Close'][i] > data['Supertrend'][i-1]:\n",
        "#       data['Supertrend'][i] = data['Lowerband'][i]\n",
        "#     else:\n",
        "#       data['Supertrend'][i] = data['Upperband'][i]\n",
        "\n",
        "#   return data\n",
        "\n",
        "\n",
        "# data = calculate_supertrend(data)"
      ]
    },
    {
      "cell_type": "code",
      "source": [],
      "metadata": {
        "id": "rllUj1OxzwTm"
      },
      "execution_count": 121,
      "outputs": []
    },
    {
      "cell_type": "markdown",
      "metadata": {
        "id": "8ZU_5QEZizCk"
      },
      "source": [
        "**Purpose: Measures volatility and potential overbought/oversold conditions.**"
      ]
    },
    {
      "cell_type": "code",
      "execution_count": 122,
      "metadata": {
        "id": "cNOJMD4EXjxb"
      },
      "outputs": [],
      "source": [
        "# def compute_bolinger_bands(data,window = 20):\n",
        "#   ma = data['Close'].rolling(window).mean()\n",
        "#   std = data['Close'].rolling(window).std()\n",
        "#   data['BB_Upper'] = ma + (2*std)\n",
        "#   data['BB_Lower'] = ma + (2*std)\n",
        "\n",
        "#   return data\n",
        "\n",
        "# data = compute_bolinger_bands(data)\n",
        "# data.head()"
      ]
    },
    {
      "cell_type": "markdown",
      "metadata": {
        "id": "IzL-5TYlihWl"
      },
      "source": [
        "**Purpose: Combines price and volume to give a weighted average, providing insights into the true average price over a period.**"
      ]
    },
    {
      "cell_type": "code",
      "execution_count": 123,
      "metadata": {
        "id": "bi7WuK0uYIj3"
      },
      "outputs": [],
      "source": [
        "# def compute_vwap(data):\n",
        "#   data['VWAP'] = (data['Close'] * data['Volume']).cumsum() / data['Volume'].cumsum()\n",
        "#   return data\n",
        "\n",
        "# data = compute_vwap(data)\n",
        "# data.head()"
      ]
    },
    {
      "cell_type": "markdown",
      "metadata": {
        "id": "3Ea1xxsRiML_"
      },
      "source": [
        "**Purpose : Measures Momentum by comparing the closing price to range of prices over certain period**"
      ]
    },
    {
      "cell_type": "code",
      "execution_count": 124,
      "metadata": {
        "id": "oB_m_KxZZFcP"
      },
      "outputs": [],
      "source": [
        "# def compute_stochastic_oscilator(data,window = 14):\n",
        "#   data['Lowest_low'] = data['Low'].rolling(window).min()\n",
        "#   data['Highest_high'] = data['High'].rolling(window).max()\n",
        "\n",
        "#   data['Stochastic_Oscilator'] = ((data['Close'] - data['Lowest_low']) / (data['Highest_high'] - data['Lowest_low']))*100\n",
        "\n",
        "#   return data\n",
        "\n",
        "# data = compute_stochastic_oscilator(data)\n",
        "# data.head()"
      ]
    },
    {
      "cell_type": "code",
      "execution_count": 125,
      "metadata": {
        "colab": {
          "base_uri": "https://localhost:8080/"
        },
        "id": "v6Po0PM0d6oY",
        "outputId": "8924007a-cc5e-420f-a2f3-0a83f4b5af9d"
      },
      "outputs": [
        {
          "output_type": "execute_result",
          "data": {
            "text/plain": [
              "Index(['Date', 'Adj Close', 'Close', 'High', 'Low', 'Open', 'Volume'], dtype='object', name='Price')"
            ]
          },
          "metadata": {},
          "execution_count": 125
        }
      ],
      "source": [
        "# On Balance Volume\n",
        "# def compute_obv(data):\n",
        "#   data['OBV'] = (np.sign(data['Close'].diff()) *  data['Volume']).cumsum()\n",
        "#   return data\n",
        "\n",
        "# data = compute_obv(data)\n",
        "data.columns"
      ]
    },
    {
      "cell_type": "code",
      "execution_count": 126,
      "metadata": {
        "colab": {
          "base_uri": "https://localhost:8080/",
          "height": 241
        },
        "id": "8B0bygLmiBaJ",
        "outputId": "79204b77-2df1-4c3d-ad45-77a6b6fde1fe"
      },
      "outputs": [
        {
          "output_type": "execute_result",
          "data": {
            "text/plain": [
              "0    7.345901\n",
              "1    7.288776\n",
              "2    7.344116\n",
              "3    7.276280\n",
              "4    7.226296\n",
              "Name: Close, dtype: float64"
            ],
            "text/html": [
              "<div>\n",
              "<style scoped>\n",
              "    .dataframe tbody tr th:only-of-type {\n",
              "        vertical-align: middle;\n",
              "    }\n",
              "\n",
              "    .dataframe tbody tr th {\n",
              "        vertical-align: top;\n",
              "    }\n",
              "\n",
              "    .dataframe thead th {\n",
              "        text-align: right;\n",
              "    }\n",
              "</style>\n",
              "<table border=\"1\" class=\"dataframe\">\n",
              "  <thead>\n",
              "    <tr style=\"text-align: right;\">\n",
              "      <th></th>\n",
              "      <th>Close</th>\n",
              "    </tr>\n",
              "  </thead>\n",
              "  <tbody>\n",
              "    <tr>\n",
              "      <th>0</th>\n",
              "      <td>7.345901</td>\n",
              "    </tr>\n",
              "    <tr>\n",
              "      <th>1</th>\n",
              "      <td>7.288776</td>\n",
              "    </tr>\n",
              "    <tr>\n",
              "      <th>2</th>\n",
              "      <td>7.344116</td>\n",
              "    </tr>\n",
              "    <tr>\n",
              "      <th>3</th>\n",
              "      <td>7.276280</td>\n",
              "    </tr>\n",
              "    <tr>\n",
              "      <th>4</th>\n",
              "      <td>7.226296</td>\n",
              "    </tr>\n",
              "  </tbody>\n",
              "</table>\n",
              "</div><br><label><b>dtype:</b> float64</label>"
            ]
          },
          "metadata": {},
          "execution_count": 126
        }
      ],
      "source": [
        "data = data['Close']\n",
        "data.head()"
      ]
    },
    {
      "cell_type": "code",
      "execution_count": 127,
      "metadata": {
        "colab": {
          "base_uri": "https://localhost:8080/"
        },
        "id": "arHBO7eZKPN0",
        "outputId": "e5500a05-2d40-44b0-f7e3-d6e98f3cce8c"
      },
      "outputs": [
        {
          "output_type": "execute_result",
          "data": {
            "text/plain": [
              "0"
            ]
          },
          "metadata": {},
          "execution_count": 127
        }
      ],
      "source": [
        "data.isnull().sum()"
      ]
    },
    {
      "cell_type": "code",
      "execution_count": 128,
      "metadata": {
        "id": "SEfG8oafKMny"
      },
      "outputs": [],
      "source": [
        "# data.dropna(subset =['MA50','MA200'],inplace = True )"
      ]
    },
    {
      "cell_type": "code",
      "execution_count": 129,
      "metadata": {
        "id": "se30O5sUkY26"
      },
      "outputs": [],
      "source": [
        "scaler = MinMaxScaler(feature_range=(0,1))\n",
        "data = np.array(data)\n",
        "data = scaler.fit_transform(data.reshape(-1,1))"
      ]
    },
    {
      "cell_type": "code",
      "execution_count": 130,
      "metadata": {
        "id": "FJ_9W53QkO4n"
      },
      "outputs": [],
      "source": [
        "train_size = int(len(data) * 0.8)\n",
        "train_data = data[:train_size]\n",
        "test_data = data[train_size:]"
      ]
    },
    {
      "cell_type": "code",
      "execution_count": 131,
      "metadata": {
        "colab": {
          "base_uri": "https://localhost:8080/"
        },
        "id": "kG18dWEukR9A",
        "outputId": "4b385d57-c8ea-40e3-b91c-f5330bc4ca09"
      },
      "outputs": [
        {
          "output_type": "execute_result",
          "data": {
            "text/plain": [
              "((7269, 1), (5815, 1), (1454, 1))"
            ]
          },
          "metadata": {},
          "execution_count": 131
        }
      ],
      "source": [
        "data.shape,train_data.shape,test_data.shape"
      ]
    },
    {
      "cell_type": "code",
      "execution_count": 132,
      "metadata": {
        "id": "v7YqnLoGlCkV"
      },
      "outputs": [],
      "source": [
        "time_step = 100\n",
        "X_train = []\n",
        "y_train = []\n",
        "\n",
        "for i in range(time_step,len(train_data)):\n",
        "  X_train.append(train_data[i-time_step:i])\n",
        "  y_train.append(train_data[i,0])\n",
        "\n",
        "X_train = np.array(X_train)\n",
        "y_train = np.array(y_train)"
      ]
    },
    {
      "cell_type": "code",
      "execution_count": 133,
      "metadata": {
        "colab": {
          "base_uri": "https://localhost:8080/"
        },
        "id": "W57mkS0LEFZC",
        "outputId": "bc879622-7f41-4948-efce-761305e75adc"
      },
      "outputs": [
        {
          "output_type": "execute_result",
          "data": {
            "text/plain": [
              "((5715, 100, 1), (5715,))"
            ]
          },
          "metadata": {},
          "execution_count": 133
        }
      ],
      "source": [
        "X_train.shape,y_train.shape"
      ]
    },
    {
      "cell_type": "code",
      "execution_count": 134,
      "metadata": {
        "id": "BVhFlDYmEThg"
      },
      "outputs": [],
      "source": [
        "time_step = 100\n",
        "X_test = []\n",
        "y_test = []\n",
        "\n",
        "for i in range(time_step,len(test_data)):\n",
        "  X_test.append(test_data[i-time_step:i])\n",
        "  y_test.append(test_data[i,0])\n",
        "\n",
        "X_test = np.array(X_test)\n",
        "y_test = np.array(y_test)"
      ]
    },
    {
      "cell_type": "code",
      "execution_count": 135,
      "metadata": {
        "colab": {
          "base_uri": "https://localhost:8080/"
        },
        "id": "H03tSyuUEylS",
        "outputId": "30c43cd1-2fbb-4dbf-e50a-50055e3eeb64"
      },
      "outputs": [
        {
          "output_type": "execute_result",
          "data": {
            "text/plain": [
              "((1354, 100, 1), (1354,))"
            ]
          },
          "metadata": {},
          "execution_count": 135
        }
      ],
      "source": [
        "X_test.shape,y_test.shape"
      ]
    },
    {
      "cell_type": "code",
      "source": [
        "\n",
        "model = Sequential()\n",
        "model.add(tf.keras.layers.Input(shape = (X_train.shape[1],X_train.shape[2]) ))\n",
        "\n",
        "# model.add(LSTM(256,return_sequences = True))\n",
        "# model.add(tf.keras.layers.LayerNormalization())\n",
        "\n",
        "model.add(LSTM(100,return_sequences = True ))\n",
        "model.add(tf.keras.layers.LayerNormalization())\n",
        "\n",
        "\n",
        "model.add(LSTM(100,return_sequences = True ))\n",
        "model.add(tf.keras.layers.LayerNormalization())\n",
        "\n",
        "model.add(LSTM(100,return_sequences = True ))\n",
        "model.add(tf.keras.layers.LayerNormalization())\n",
        "\n",
        "model.add(LSTM(128, ))\n",
        "model.add(tf.keras.layers.LayerNormalization())\n",
        "\n",
        "model.add(Dense(128,activation = 'relu'))\n",
        "model.add(tf.keras.layers.BatchNormalization())\n",
        "# model.add(Dropout(0.2))\n",
        "# model.add(Dense(32,activation = 'relu'))\n",
        "# model.add(tf.keras.layers.BatchNormalization())\n",
        "# model.add(Dropout(0.2))\n",
        "model.add(Dense(1))"
      ],
      "metadata": {
        "id": "PSXKytlJtLlM"
      },
      "execution_count": 136,
      "outputs": []
    },
    {
      "cell_type": "code",
      "execution_count": 137,
      "metadata": {
        "colab": {
          "base_uri": "https://localhost:8080/",
          "height": 561
        },
        "id": "V3I2Xd1CFzFV",
        "outputId": "870d94b3-d163-4188-cd25-656fd1917251"
      },
      "outputs": [
        {
          "output_type": "display_data",
          "data": {
            "text/plain": [
              "\u001b[1mModel: \"sequential_5\"\u001b[0m\n"
            ],
            "text/html": [
              "<pre style=\"white-space:pre;overflow-x:auto;line-height:normal;font-family:Menlo,'DejaVu Sans Mono',consolas,'Courier New',monospace\"><span style=\"font-weight: bold\">Model: \"sequential_5\"</span>\n",
              "</pre>\n"
            ]
          },
          "metadata": {}
        },
        {
          "output_type": "display_data",
          "data": {
            "text/plain": [
              "┏━━━━━━━━━━━━━━━━━━━━━━━━━━━━━━━━━━━━━━┳━━━━━━━━━━━━━━━━━━━━━━━━━━━━━┳━━━━━━━━━━━━━━━━━┓\n",
              "┃\u001b[1m \u001b[0m\u001b[1mLayer (type)                        \u001b[0m\u001b[1m \u001b[0m┃\u001b[1m \u001b[0m\u001b[1mOutput Shape               \u001b[0m\u001b[1m \u001b[0m┃\u001b[1m \u001b[0m\u001b[1m        Param #\u001b[0m\u001b[1m \u001b[0m┃\n",
              "┡━━━━━━━━━━━━━━━━━━━━━━━━━━━━━━━━━━━━━━╇━━━━━━━━━━━━━━━━━━━━━━━━━━━━━╇━━━━━━━━━━━━━━━━━┩\n",
              "│ lstm_15 (\u001b[38;5;33mLSTM\u001b[0m)                       │ (\u001b[38;5;45mNone\u001b[0m, \u001b[38;5;34m100\u001b[0m, \u001b[38;5;34m100\u001b[0m)            │          \u001b[38;5;34m40,800\u001b[0m │\n",
              "├──────────────────────────────────────┼─────────────────────────────┼─────────────────┤\n",
              "│ layer_normalization_15               │ (\u001b[38;5;45mNone\u001b[0m, \u001b[38;5;34m100\u001b[0m, \u001b[38;5;34m100\u001b[0m)            │             \u001b[38;5;34m200\u001b[0m │\n",
              "│ (\u001b[38;5;33mLayerNormalization\u001b[0m)                 │                             │                 │\n",
              "├──────────────────────────────────────┼─────────────────────────────┼─────────────────┤\n",
              "│ lstm_16 (\u001b[38;5;33mLSTM\u001b[0m)                       │ (\u001b[38;5;45mNone\u001b[0m, \u001b[38;5;34m100\u001b[0m, \u001b[38;5;34m100\u001b[0m)            │          \u001b[38;5;34m80,400\u001b[0m │\n",
              "├──────────────────────────────────────┼─────────────────────────────┼─────────────────┤\n",
              "│ layer_normalization_16               │ (\u001b[38;5;45mNone\u001b[0m, \u001b[38;5;34m100\u001b[0m, \u001b[38;5;34m100\u001b[0m)            │             \u001b[38;5;34m200\u001b[0m │\n",
              "│ (\u001b[38;5;33mLayerNormalization\u001b[0m)                 │                             │                 │\n",
              "├──────────────────────────────────────┼─────────────────────────────┼─────────────────┤\n",
              "│ lstm_17 (\u001b[38;5;33mLSTM\u001b[0m)                       │ (\u001b[38;5;45mNone\u001b[0m, \u001b[38;5;34m100\u001b[0m, \u001b[38;5;34m100\u001b[0m)            │          \u001b[38;5;34m80,400\u001b[0m │\n",
              "├──────────────────────────────────────┼─────────────────────────────┼─────────────────┤\n",
              "│ layer_normalization_17               │ (\u001b[38;5;45mNone\u001b[0m, \u001b[38;5;34m100\u001b[0m, \u001b[38;5;34m100\u001b[0m)            │             \u001b[38;5;34m200\u001b[0m │\n",
              "│ (\u001b[38;5;33mLayerNormalization\u001b[0m)                 │                             │                 │\n",
              "├──────────────────────────────────────┼─────────────────────────────┼─────────────────┤\n",
              "│ lstm_18 (\u001b[38;5;33mLSTM\u001b[0m)                       │ (\u001b[38;5;45mNone\u001b[0m, \u001b[38;5;34m128\u001b[0m)                 │         \u001b[38;5;34m117,248\u001b[0m │\n",
              "├──────────────────────────────────────┼─────────────────────────────┼─────────────────┤\n",
              "│ layer_normalization_18               │ (\u001b[38;5;45mNone\u001b[0m, \u001b[38;5;34m128\u001b[0m)                 │             \u001b[38;5;34m256\u001b[0m │\n",
              "│ (\u001b[38;5;33mLayerNormalization\u001b[0m)                 │                             │                 │\n",
              "├──────────────────────────────────────┼─────────────────────────────┼─────────────────┤\n",
              "│ dense_10 (\u001b[38;5;33mDense\u001b[0m)                     │ (\u001b[38;5;45mNone\u001b[0m, \u001b[38;5;34m128\u001b[0m)                 │          \u001b[38;5;34m16,512\u001b[0m │\n",
              "├──────────────────────────────────────┼─────────────────────────────┼─────────────────┤\n",
              "│ batch_normalization_5                │ (\u001b[38;5;45mNone\u001b[0m, \u001b[38;5;34m128\u001b[0m)                 │             \u001b[38;5;34m512\u001b[0m │\n",
              "│ (\u001b[38;5;33mBatchNormalization\u001b[0m)                 │                             │                 │\n",
              "├──────────────────────────────────────┼─────────────────────────────┼─────────────────┤\n",
              "│ dense_11 (\u001b[38;5;33mDense\u001b[0m)                     │ (\u001b[38;5;45mNone\u001b[0m, \u001b[38;5;34m1\u001b[0m)                   │             \u001b[38;5;34m129\u001b[0m │\n",
              "└──────────────────────────────────────┴─────────────────────────────┴─────────────────┘\n"
            ],
            "text/html": [
              "<pre style=\"white-space:pre;overflow-x:auto;line-height:normal;font-family:Menlo,'DejaVu Sans Mono',consolas,'Courier New',monospace\">┏━━━━━━━━━━━━━━━━━━━━━━━━━━━━━━━━━━━━━━┳━━━━━━━━━━━━━━━━━━━━━━━━━━━━━┳━━━━━━━━━━━━━━━━━┓\n",
              "┃<span style=\"font-weight: bold\"> Layer (type)                         </span>┃<span style=\"font-weight: bold\"> Output Shape                </span>┃<span style=\"font-weight: bold\">         Param # </span>┃\n",
              "┡━━━━━━━━━━━━━━━━━━━━━━━━━━━━━━━━━━━━━━╇━━━━━━━━━━━━━━━━━━━━━━━━━━━━━╇━━━━━━━━━━━━━━━━━┩\n",
              "│ lstm_15 (<span style=\"color: #0087ff; text-decoration-color: #0087ff\">LSTM</span>)                       │ (<span style=\"color: #00d7ff; text-decoration-color: #00d7ff\">None</span>, <span style=\"color: #00af00; text-decoration-color: #00af00\">100</span>, <span style=\"color: #00af00; text-decoration-color: #00af00\">100</span>)            │          <span style=\"color: #00af00; text-decoration-color: #00af00\">40,800</span> │\n",
              "├──────────────────────────────────────┼─────────────────────────────┼─────────────────┤\n",
              "│ layer_normalization_15               │ (<span style=\"color: #00d7ff; text-decoration-color: #00d7ff\">None</span>, <span style=\"color: #00af00; text-decoration-color: #00af00\">100</span>, <span style=\"color: #00af00; text-decoration-color: #00af00\">100</span>)            │             <span style=\"color: #00af00; text-decoration-color: #00af00\">200</span> │\n",
              "│ (<span style=\"color: #0087ff; text-decoration-color: #0087ff\">LayerNormalization</span>)                 │                             │                 │\n",
              "├──────────────────────────────────────┼─────────────────────────────┼─────────────────┤\n",
              "│ lstm_16 (<span style=\"color: #0087ff; text-decoration-color: #0087ff\">LSTM</span>)                       │ (<span style=\"color: #00d7ff; text-decoration-color: #00d7ff\">None</span>, <span style=\"color: #00af00; text-decoration-color: #00af00\">100</span>, <span style=\"color: #00af00; text-decoration-color: #00af00\">100</span>)            │          <span style=\"color: #00af00; text-decoration-color: #00af00\">80,400</span> │\n",
              "├──────────────────────────────────────┼─────────────────────────────┼─────────────────┤\n",
              "│ layer_normalization_16               │ (<span style=\"color: #00d7ff; text-decoration-color: #00d7ff\">None</span>, <span style=\"color: #00af00; text-decoration-color: #00af00\">100</span>, <span style=\"color: #00af00; text-decoration-color: #00af00\">100</span>)            │             <span style=\"color: #00af00; text-decoration-color: #00af00\">200</span> │\n",
              "│ (<span style=\"color: #0087ff; text-decoration-color: #0087ff\">LayerNormalization</span>)                 │                             │                 │\n",
              "├──────────────────────────────────────┼─────────────────────────────┼─────────────────┤\n",
              "│ lstm_17 (<span style=\"color: #0087ff; text-decoration-color: #0087ff\">LSTM</span>)                       │ (<span style=\"color: #00d7ff; text-decoration-color: #00d7ff\">None</span>, <span style=\"color: #00af00; text-decoration-color: #00af00\">100</span>, <span style=\"color: #00af00; text-decoration-color: #00af00\">100</span>)            │          <span style=\"color: #00af00; text-decoration-color: #00af00\">80,400</span> │\n",
              "├──────────────────────────────────────┼─────────────────────────────┼─────────────────┤\n",
              "│ layer_normalization_17               │ (<span style=\"color: #00d7ff; text-decoration-color: #00d7ff\">None</span>, <span style=\"color: #00af00; text-decoration-color: #00af00\">100</span>, <span style=\"color: #00af00; text-decoration-color: #00af00\">100</span>)            │             <span style=\"color: #00af00; text-decoration-color: #00af00\">200</span> │\n",
              "│ (<span style=\"color: #0087ff; text-decoration-color: #0087ff\">LayerNormalization</span>)                 │                             │                 │\n",
              "├──────────────────────────────────────┼─────────────────────────────┼─────────────────┤\n",
              "│ lstm_18 (<span style=\"color: #0087ff; text-decoration-color: #0087ff\">LSTM</span>)                       │ (<span style=\"color: #00d7ff; text-decoration-color: #00d7ff\">None</span>, <span style=\"color: #00af00; text-decoration-color: #00af00\">128</span>)                 │         <span style=\"color: #00af00; text-decoration-color: #00af00\">117,248</span> │\n",
              "├──────────────────────────────────────┼─────────────────────────────┼─────────────────┤\n",
              "│ layer_normalization_18               │ (<span style=\"color: #00d7ff; text-decoration-color: #00d7ff\">None</span>, <span style=\"color: #00af00; text-decoration-color: #00af00\">128</span>)                 │             <span style=\"color: #00af00; text-decoration-color: #00af00\">256</span> │\n",
              "│ (<span style=\"color: #0087ff; text-decoration-color: #0087ff\">LayerNormalization</span>)                 │                             │                 │\n",
              "├──────────────────────────────────────┼─────────────────────────────┼─────────────────┤\n",
              "│ dense_10 (<span style=\"color: #0087ff; text-decoration-color: #0087ff\">Dense</span>)                     │ (<span style=\"color: #00d7ff; text-decoration-color: #00d7ff\">None</span>, <span style=\"color: #00af00; text-decoration-color: #00af00\">128</span>)                 │          <span style=\"color: #00af00; text-decoration-color: #00af00\">16,512</span> │\n",
              "├──────────────────────────────────────┼─────────────────────────────┼─────────────────┤\n",
              "│ batch_normalization_5                │ (<span style=\"color: #00d7ff; text-decoration-color: #00d7ff\">None</span>, <span style=\"color: #00af00; text-decoration-color: #00af00\">128</span>)                 │             <span style=\"color: #00af00; text-decoration-color: #00af00\">512</span> │\n",
              "│ (<span style=\"color: #0087ff; text-decoration-color: #0087ff\">BatchNormalization</span>)                 │                             │                 │\n",
              "├──────────────────────────────────────┼─────────────────────────────┼─────────────────┤\n",
              "│ dense_11 (<span style=\"color: #0087ff; text-decoration-color: #0087ff\">Dense</span>)                     │ (<span style=\"color: #00d7ff; text-decoration-color: #00d7ff\">None</span>, <span style=\"color: #00af00; text-decoration-color: #00af00\">1</span>)                   │             <span style=\"color: #00af00; text-decoration-color: #00af00\">129</span> │\n",
              "└──────────────────────────────────────┴─────────────────────────────┴─────────────────┘\n",
              "</pre>\n"
            ]
          },
          "metadata": {}
        },
        {
          "output_type": "display_data",
          "data": {
            "text/plain": [
              "\u001b[1m Total params: \u001b[0m\u001b[38;5;34m336,857\u001b[0m (1.29 MB)\n"
            ],
            "text/html": [
              "<pre style=\"white-space:pre;overflow-x:auto;line-height:normal;font-family:Menlo,'DejaVu Sans Mono',consolas,'Courier New',monospace\"><span style=\"font-weight: bold\"> Total params: </span><span style=\"color: #00af00; text-decoration-color: #00af00\">336,857</span> (1.29 MB)\n",
              "</pre>\n"
            ]
          },
          "metadata": {}
        },
        {
          "output_type": "display_data",
          "data": {
            "text/plain": [
              "\u001b[1m Trainable params: \u001b[0m\u001b[38;5;34m336,601\u001b[0m (1.28 MB)\n"
            ],
            "text/html": [
              "<pre style=\"white-space:pre;overflow-x:auto;line-height:normal;font-family:Menlo,'DejaVu Sans Mono',consolas,'Courier New',monospace\"><span style=\"font-weight: bold\"> Trainable params: </span><span style=\"color: #00af00; text-decoration-color: #00af00\">336,601</span> (1.28 MB)\n",
              "</pre>\n"
            ]
          },
          "metadata": {}
        },
        {
          "output_type": "display_data",
          "data": {
            "text/plain": [
              "\u001b[1m Non-trainable params: \u001b[0m\u001b[38;5;34m256\u001b[0m (1.00 KB)\n"
            ],
            "text/html": [
              "<pre style=\"white-space:pre;overflow-x:auto;line-height:normal;font-family:Menlo,'DejaVu Sans Mono',consolas,'Courier New',monospace\"><span style=\"font-weight: bold\"> Non-trainable params: </span><span style=\"color: #00af00; text-decoration-color: #00af00\">256</span> (1.00 KB)\n",
              "</pre>\n"
            ]
          },
          "metadata": {}
        }
      ],
      "source": [
        "model.summary()"
      ]
    },
    {
      "cell_type": "code",
      "execution_count": 138,
      "metadata": {
        "id": "iIvYhS48GEmb"
      },
      "outputs": [],
      "source": [
        "model.compile(optimizer = 'adam',loss = 'mean_squared_error',metrics = ['mse'])"
      ]
    },
    {
      "cell_type": "code",
      "execution_count": 139,
      "metadata": {
        "id": "TuAf5thoF0g_"
      },
      "outputs": [],
      "source": [
        "checkpoint = ModelCheckpoint(\n",
        "    \"best_model.keras\",\n",
        "    monitor = \"val_loss\",\n",
        "    mode = \"min\",\n",
        "    save_best_only = True,\n",
        "    save_weights_only = False,\n",
        "    verbose = 1\n",
        ")"
      ]
    },
    {
      "cell_type": "code",
      "source": [
        "# history = model.fit(X_train,y_train,epochs = 100,validation_data = (X_test,y_test),callbacks = [checkpoint])"
      ],
      "metadata": {
        "id": "-JRK5g0tsjyb"
      },
      "execution_count": 140,
      "outputs": []
    },
    {
      "cell_type": "code",
      "execution_count": 141,
      "metadata": {
        "id": "nLHNzLT1U2eY"
      },
      "outputs": [],
      "source": [
        "from tensorflow.keras.models import load_model\n",
        "\n",
        "model = load_model('best_model.keras')\n",
        "# history = model.fit(X_train,y_train,epochs = 100,validation_data = (X_test,y_test),callbacks = [checkpoint])"
      ]
    },
    {
      "cell_type": "code",
      "source": [
        "test_prices = scaler.inverse_transform(y_test.reshape(-1,1))"
      ],
      "metadata": {
        "id": "gVZ2heC0op2e"
      },
      "execution_count": 142,
      "outputs": []
    },
    {
      "cell_type": "code",
      "source": [
        "test_prices"
      ],
      "metadata": {
        "id": "TYW92YDzFXax",
        "outputId": "1608cdb3-b70b-45e7-feaf-d2f89310828d",
        "colab": {
          "base_uri": "https://localhost:8080/"
        }
      },
      "execution_count": 143,
      "outputs": [
        {
          "output_type": "execute_result",
          "data": {
            "text/plain": [
              "array([[ 577.12683105],\n",
              "       [ 592.41900635],\n",
              "       [ 591.6418457 ],\n",
              "       ...,\n",
              "       [1284.84997559],\n",
              "       [1278.19995117],\n",
              "       [1273.09997559]])"
            ]
          },
          "metadata": {},
          "execution_count": 143
        }
      ]
    },
    {
      "cell_type": "code",
      "source": [
        "\n",
        "test_predictions = model.predict(X_test)\n",
        "test_predictions = scaler.inverse_transform(test_predictions)\n"
      ],
      "metadata": {
        "id": "vsZSEOCosSA-",
        "colab": {
          "base_uri": "https://localhost:8080/"
        },
        "outputId": "e82440fa-e215-432b-9aef-1f29e30c019f"
      },
      "execution_count": 144,
      "outputs": [
        {
          "output_type": "stream",
          "name": "stdout",
          "text": [
            "\u001b[1m43/43\u001b[0m \u001b[32m━━━━━━━━━━━━━━━━━━━━\u001b[0m\u001b[37m\u001b[0m \u001b[1m1s\u001b[0m 18ms/step\n"
          ]
        }
      ]
    },
    {
      "cell_type": "code",
      "source": [
        "plt.plot(test_prices)\n",
        "plt.plot(test_predictions)"
      ],
      "metadata": {
        "id": "qRHeW0sjnUyI",
        "colab": {
          "base_uri": "https://localhost:8080/",
          "height": 447
        },
        "outputId": "5d5e3f1e-503c-4089-d38c-572df9ec5ba8"
      },
      "execution_count": 145,
      "outputs": [
        {
          "output_type": "execute_result",
          "data": {
            "text/plain": [
              "[<matplotlib.lines.Line2D at 0x78fff75c2830>]"
            ]
          },
          "metadata": {},
          "execution_count": 145
        },
        {
          "output_type": "display_data",
          "data": {
            "text/plain": [
              "<Figure size 640x480 with 1 Axes>"
            ],
            "image/png": "[encoded data removed]"
          },
          "metadata": {}
        }
      ]
    },
    {
      "cell_type": "code",
      "source": [
        "\n",
        "train_predictions = model.predict(X_train)\n",
        "\n",
        "\n",
        "train_predictions_rescaled = scaler.inverse_transform(train_predictions)"
      ],
      "metadata": {
        "id": "LkEVrcs0pvFr",
        "colab": {
          "base_uri": "https://localhost:8080/"
        },
        "outputId": "41c5dd2d-61b4-430d-ab5b-28a65eb197ed"
      },
      "execution_count": 146,
      "outputs": [
        {
          "output_type": "stream",
          "name": "stdout",
          "text": [
            "\u001b[1m179/179\u001b[0m \u001b[32m━━━━━━━━━━━━━━━━━━━━\u001b[0m\u001b[37m\u001b[0m \u001b[1m1s\u001b[0m 7ms/step\n"
          ]
        }
      ]
    },
    {
      "cell_type": "code",
      "source": [
        "train_predictions_rescaled"
      ],
      "metadata": {
        "id": "_kUf-IbeHyPl",
        "outputId": "d675e95b-6877-4504-e896-bfcd1e58a288",
        "colab": {
          "base_uri": "https://localhost:8080/"
        }
      },
      "execution_count": 147,
      "outputs": [
        {
          "output_type": "execute_result",
          "data": {
            "text/plain": [
              "array([[  6.4780807],\n",
              "       [  6.231894 ],\n",
              "       [  6.1767454],\n",
              "       ...,\n",
              "       [523.1494   ],\n",
              "       [523.3688   ],\n",
              "       [543.0042   ]], dtype=float32)"
            ]
          },
          "metadata": {},
          "execution_count": 147
        }
      ]
    },
    {
      "cell_type": "code",
      "source": [
        "y_train_rescaled = scaler.inverse_transform(y_train.reshape(-1,1))\n",
        "y_train_rescaled"
      ],
      "metadata": {
        "id": "bzl-ojo5pzup",
        "colab": {
          "base_uri": "https://localhost:8080/"
        },
        "outputId": "b8bcde45-d306-4029-e132-b72a529e3d33"
      },
      "execution_count": 148,
      "outputs": [
        {
          "output_type": "execute_result",
          "data": {
            "text/plain": [
              "array([[  8.65263271],\n",
              "       [  8.62228489],\n",
              "       [  8.66869926],\n",
              "       ...,\n",
              "       [518.63238525],\n",
              "       [541.44494629],\n",
              "       [565.83477783]])"
            ]
          },
          "metadata": {},
          "execution_count": 148
        }
      ]
    },
    {
      "cell_type": "code",
      "source": [
        "plt.plot(y_train_rescaled)\n",
        "plt.plot(train_predictions_rescaled)\n",
        "\n"
      ],
      "metadata": {
        "id": "FBTyJisop7_y",
        "colab": {
          "base_uri": "https://localhost:8080/",
          "height": 447
        },
        "outputId": "a1693c88-e3d2-421e-8008-967fba936df4"
      },
      "execution_count": 149,
      "outputs": [
        {
          "output_type": "execute_result",
          "data": {
            "text/plain": [
              "[<matplotlib.lines.Line2D at 0x78fff6ead960>]"
            ]
          },
          "metadata": {},
          "execution_count": 149
        },
        {
          "output_type": "display_data",
          "data": {
            "text/plain": [
              "<Figure size 640x480 with 1 Axes>"
            ],
            "image/png": "[encoded data removed]"
          },
          "metadata": {}
        }
      ]
    },
    {
      "cell_type": "code",
      "source": [
        "actual_close = scaler.inverse_transform(data)\n",
        "actual_close"
      ],
      "metadata": {
        "id": "XBEdb47LrHok",
        "colab": {
          "base_uri": "https://localhost:8080/"
        },
        "outputId": "76024c9e-1b80-439d-d1c5-7b10f417efbf"
      },
      "execution_count": 150,
      "outputs": [
        {
          "output_type": "execute_result",
          "data": {
            "text/plain": [
              "array([[   7.34590101],\n",
              "       [   7.28877592],\n",
              "       [   7.34411621],\n",
              "       ...,\n",
              "       [1284.84997559],\n",
              "       [1278.19995117],\n",
              "       [1273.09997559]])"
            ]
          },
          "metadata": {},
          "execution_count": 150
        }
      ]
    },
    {
      "cell_type": "code",
      "source": [
        "lookback = 100\n",
        "train_pred_aligned = np.empty_like(actual_close)\n",
        "train_pred_aligned[:] = np.nan\n",
        "train_pred_aligned[lookback:lookback + len(train_predictions_rescaled)] = train_predictions_rescaled\n",
        "\n",
        "test_index_start = len(train_predictions_rescaled)+ lookback*2\n",
        "test_pred_aligned = np.empty_like(actual_close)\n",
        "test_pred_aligned[:] = np.nan\n",
        "test_pred_aligned[test_index_start:test_index_start + len(test_predictions)] = test_predictions"
      ],
      "metadata": {
        "id": "6D-eJmTTq5HR"
      },
      "execution_count": 167,
      "outputs": []
    },
    {
      "cell_type": "code",
      "source": [
        "len(actual_close),data.shape[0]"
      ],
      "metadata": {
        "id": "HJVpdSIhLHbJ",
        "outputId": "7334fe5b-c98c-4f71-e281-bbfe716cb523",
        "colab": {
          "base_uri": "https://localhost:8080/"
        }
      },
      "execution_count": 159,
      "outputs": [
        {
          "output_type": "execute_result",
          "data": {
            "text/plain": [
              "(7269, 7269)"
            ]
          },
          "metadata": {},
          "execution_count": 159
        }
      ]
    },
    {
      "cell_type": "code",
      "source": [
        "plt.figure(figsize = (12,6))\n",
        "plt.plot(actual_close,label= \"Actual close\")\n",
        "plt.plot(train_pred_aligned,label = \"Train Prediction\")\n",
        "plt.plot(test_pred_aligned,label = \"Test Prediction\")\n",
        "plt.legend()"
      ],
      "metadata": {
        "id": "Gen5Cl7KLryt",
        "outputId": "08f49877-6590-42ec-dcf7-eb261a2185eb",
        "colab": {
          "base_uri": "https://localhost:8080/",
          "height": 539
        }
      },
      "execution_count": 171,
      "outputs": [
        {
          "output_type": "execute_result",
          "data": {
            "text/plain": [
              "<matplotlib.legend.Legend at 0x79001bd95840>"
            ]
          },
          "metadata": {},
          "execution_count": 171
        },
        {
          "output_type": "display_data",
          "data": {
            "text/plain": [
              "<Figure size 1200x600 with 1 Axes>"
            ],
            "image/png": "[encoded data removed]"
          },
          "metadata": {}
        }
      ]
    },
    {
      "cell_type": "code",
      "source": [
        "actual_close[-1]"
      ],
      "metadata": {
        "colab": {
          "base_uri": "https://localhost:8080/"
        },
        "id": "HeHe6ZB9f4Sf",
        "outputId": "be108236-1703-4cff-d711-7e76a9dfca3e"
      },
      "execution_count": 155,
      "outputs": [
        {
          "output_type": "execute_result",
          "data": {
            "text/plain": [
              "array([1273.09997559])"
            ]
          },
          "metadata": {},
          "execution_count": 155
        }
      ]
    },
    {
      "cell_type": "code",
      "source": [
        "def blend_predictions(predicted_price, historical_price, alpha=0.8):\n",
        "    historical_price = historical_price[-1]  # Use the latest historical price\n",
        "    return alpha * predicted_price + (1 - alpha) * historical_price\n"
      ],
      "metadata": {
        "id": "Xtr-4na3l8Go"
      },
      "execution_count": null,
      "outputs": []
    },
    {
      "cell_type": "code",
      "source": [
        "def calculate_features(df):\n",
        "  df['MA50'] = df['Close'].rolling(50).mean()\n",
        "  df['MA200'] = df['Close'].rolling(200).mean()\n",
        "  df['EMA50'] = df['Close'].ewm(span = 50,adjust = False).mean()\n",
        "  df['EMA200'] = df['Close'].ewm(span = 200,adjust = False).mean()\n",
        "\n",
        "  return df"
      ],
      "metadata": {
        "id": "_JU-zcrt2NP0"
      },
      "execution_count": null,
      "outputs": []
    },
    {
      "cell_type": "code",
      "source": [
        "X_test[-1].shape"
      ],
      "metadata": {
        "colab": {
          "base_uri": "https://localhost:8080/"
        },
        "id": "iW2dUOt8jEL6",
        "outputId": "329504f9-048e-40e9-b308-02f9b76696b6"
      },
      "execution_count": 156,
      "outputs": [
        {
          "output_type": "execute_result",
          "data": {
            "text/plain": [
              "(100, 1)"
            ]
          },
          "metadata": {},
          "execution_count": 156
        }
      ]
    },
    {
      "cell_type": "code",
      "source": [
        "import pandas as pd\n",
        "import numpy as np\n",
        "\n",
        "input_data = X_test[-1]\n",
        "predicted_prices = []\n",
        "\n",
        "for i in range(200):\n",
        "\n",
        "  input_sequence = input_data.reshape(1, 100, 1)\n",
        "\n",
        "  next_close_price = model.predict(input_sequence, verbose=0)[0, 0]\n",
        "\n",
        "  next_close_price_original = scaler.inverse_transform([[next_close_price]])[0,0]\n",
        "\n",
        "  predicted_prices.append(next_close_price_original)\n",
        "\n",
        "  input_data = np.roll(input_data,-1)\n",
        "\n",
        "\n",
        "  input_data[-1] = next_close_price\n",
        "\n",
        "  # print(f\"Step {i+1}, Predicted: {next_close_price_original}\")\n",
        "\n",
        "\n",
        "\n",
        "\n"
      ],
      "metadata": {
        "id": "JrhYt-g-_4XX"
      },
      "execution_count": 177,
      "outputs": []
    },
    {
      "cell_type": "code",
      "source": [
        "def exponential_moving_average(data, span):\n",
        "    return pd.Series(data).ewm(span=span, adjust=False).mean()\n",
        "\n",
        "# Apply EMA to predicted prices\n",
        "smoothed_predictions = exponential_moving_average(predicted_prices, span=10)  # Adjust span as needed\n"
      ],
      "metadata": {
        "id": "F9NnSWKjx6Va"
      },
      "execution_count": 185,
      "outputs": []
    },
    {
      "cell_type": "code",
      "source": [
        "smoothed_predictions"
      ],
      "metadata": {
        "id": "bgIpzb6AB0ic",
        "colab": {
          "base_uri": "https://localhost:8080/",
          "height": 458
        },
        "outputId": "894c1d06-fbb2-43d7-eebb-a81939abecf1"
      },
      "execution_count": 186,
      "outputs": [
        {
          "output_type": "execute_result",
          "data": {
            "text/plain": [
              "0      1270.627935\n",
              "1      1269.353848\n",
              "2      1267.114302\n",
              "3      1264.149116\n",
              "4      1260.647076\n",
              "          ...     \n",
              "195    1084.537190\n",
              "196    1084.516663\n",
              "197    1084.496843\n",
              "198    1084.476857\n",
              "199    1084.457652\n",
              "Length: 200, dtype: float64"
            ],
            "text/html": [
              "<div>\n",
              "<style scoped>\n",
              "    .dataframe tbody tr th:only-of-type {\n",
              "        vertical-align: middle;\n",
              "    }\n",
              "\n",
              "    .dataframe tbody tr th {\n",
              "        vertical-align: top;\n",
              "    }\n",
              "\n",
              "    .dataframe thead th {\n",
              "        text-align: right;\n",
              "    }\n",
              "</style>\n",
              "<table border=\"1\" class=\"dataframe\">\n",
              "  <thead>\n",
              "    <tr style=\"text-align: right;\">\n",
              "      <th></th>\n",
              "      <th>0</th>\n",
              "    </tr>\n",
              "  </thead>\n",
              "  <tbody>\n",
              "    <tr>\n",
              "      <th>0</th>\n",
              "      <td>1270.627935</td>\n",
              "    </tr>\n",
              "    <tr>\n",
              "      <th>1</th>\n",
              "      <td>1269.353848</td>\n",
              "    </tr>\n",
              "    <tr>\n",
              "      <th>2</th>\n",
              "      <td>1267.114302</td>\n",
              "    </tr>\n",
              "    <tr>\n",
              "      <th>3</th>\n",
              "      <td>1264.149116</td>\n",
              "    </tr>\n",
              "    <tr>\n",
              "      <th>4</th>\n",
              "      <td>1260.647076</td>\n",
              "    </tr>\n",
              "    <tr>\n",
              "      <th>...</th>\n",
              "      <td>...</td>\n",
              "    </tr>\n",
              "    <tr>\n",
              "      <th>195</th>\n",
              "      <td>1084.537190</td>\n",
              "    </tr>\n",
              "    <tr>\n",
              "      <th>196</th>\n",
              "      <td>1084.516663</td>\n",
              "    </tr>\n",
              "    <tr>\n",
              "      <th>197</th>\n",
              "      <td>1084.496843</td>\n",
              "    </tr>\n",
              "    <tr>\n",
              "      <th>198</th>\n",
              "      <td>1084.476857</td>\n",
              "    </tr>\n",
              "    <tr>\n",
              "      <th>199</th>\n",
              "      <td>1084.457652</td>\n",
              "    </tr>\n",
              "  </tbody>\n",
              "</table>\n",
              "<p>200 rows × 1 columns</p>\n",
              "</div><br><label><b>dtype:</b> float64</label>"
            ]
          },
          "metadata": {},
          "execution_count": 186
        }
      ]
    },
    {
      "cell_type": "code",
      "source": [
        "import matplotlib.pyplot as plt\n",
        "import numpy as np\n",
        "\n",
        "# Create x-axis values for each part\n",
        "x_actual = np.arange(len(actual_close))\n",
        "x_train = np.arange(lookback, lookback + len(train_pred_aligned))\n",
        "x_test = np.arange(test_index_start, test_index_start + len(test_pred_aligned))\n",
        "x_predicted = np.arange(len(actual_close), len(actual_close) + len(predicted_prices))\n",
        "# x_predicted = np.arange(len(actual_close), len(actual_close) + len(predicted_prices))\n",
        "\n",
        "# Plotting the data\n",
        "plt.figure(figsize=(14, 7))\n",
        "\n",
        "# Plot actual close prices\n",
        "plt.plot(actual_close, label='Actual Close Prices', color='blue')\n",
        "\n",
        "# Plot train predictions\n",
        "plt.plot(train_pred_aligned, label='Train Predictions', color='orange')\n",
        "\n",
        "# Plot test predictions\n",
        "plt.plot(test_pred_aligned, label='Test Predictions', color='green')\n",
        "\n",
        "# Plot future predicted prices\n",
        "plt.plot(x_predicted,smoothed_predictions, label='Future Predictions (Next 60 Days)', color='red')\n",
        "\n",
        "# Title and labels\n",
        "plt.title(\"Stock Price Forecasting\", fontsize=16)\n",
        "plt.xlabel(\"Time (Days)\", fontsize=14)\n",
        "plt.ylabel(\"Stock Price (INR)\", fontsize=14)\n",
        "\n",
        "# Display legend\n",
        "plt.legend()\n",
        "\n",
        "# Show grid for better readability\n",
        "plt.grid(True)\n",
        "\n",
        "# Display the plot\n",
        "plt.show()\n"
      ],
      "metadata": {
        "id": "Y0UkY2UvykJ0",
        "colab": {
          "base_uri": "https://localhost:8080/",
          "height": 615
        },
        "outputId": "9b3e1dab-8a93-4069-c5f0-1d20dccc4e64"
      },
      "execution_count": 187,
      "outputs": [
        {
          "output_type": "display_data",
          "data": {
            "text/plain": [
              "<Figure size 1400x700 with 1 Axes>"
            ],
            "image/png": "[encoded data removed]"
          },
          "metadata": {}
        }
      ]
    },
    {
      "cell_type": "code",
      "source": [
        "predicted_prices"
      ],
      "metadata": {
        "id": "YOB7csJhC-7a"
      },
      "execution_count": null,
      "outputs": []
    },
    {
      "cell_type": "code",
      "source": [
        "X_test.shape"
      ],
      "metadata": {
        "id": "JdJWNVhxwf0I"
      },
      "execution_count": null,
      "outputs": []
    }
  ],
  "metadata": {
    "accelerator": "GPU",
    "colab": {
      "gpuType": "T4",
      "provenance": []
    },
    "kernelspec": {
      "display_name": "Python 3",
      "name": "python3"
    },
    "language_info": {
      "name": "python"
    }
  },
  "nbformat": 4,
  "nbformat_minor": 0
}